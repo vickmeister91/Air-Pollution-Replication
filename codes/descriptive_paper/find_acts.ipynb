{
 "cells": [
  {
   "cell_type": "code",
   "execution_count": null,
   "metadata": {},
   "outputs": [],
   "source": [
    "import pandas as pd\n",
    "pd.set_option('display.max_columns', None)\n",
    "import numpy as np\n",
    "from nltk import FreqDist\n",
    "import seaborn as sns\n",
    "sns.set(rc={'figure.figsize':(11.7,8.27)})\n",
    "import matplotlib.pyplot as plt\n",
    "sns.set_palette(\"pastel\")\n",
    "import ast\n",
    "import networkx as nx\n",
    "from bs4 import BeautifulSoup\n",
    "import regex as re\n",
    "import tqdm\n",
    "import glob\n",
    "import os\n",
    "from fuzzywuzzy import fuzz\n",
    "\n",
    "import multiprocessing\n",
    "from multiprocessing import Process, Manager\n",
    "\n",
    "import numexpr as ne"
   ]
  },
  {
   "cell_type": "code",
   "execution_count": null,
   "metadata": {},
   "outputs": [],
   "source": [
    "citations_data = r\"C:\\Users\\wb570559\\Dropbox\\AIR POLLUTION PROJECT\\ANALYSIS\\DATA\\processed_data\\citations_data_full\\\\\""
   ]
  },
  {
   "cell_type": "code",
   "execution_count": null,
   "metadata": {},
   "outputs": [],
   "source": [
    "df_main = pd.read_csv(citations_data+r\"citations_data_full_kanoon.csv\").drop([\"Unnamed: 0\"], axis=1)"
   ]
  },
  {
   "cell_type": "code",
   "execution_count": null,
   "metadata": {
    "scrolled": true
   },
   "outputs": [],
   "source": [
    "df_main.head()"
   ]
  },
  {
   "cell_type": "code",
   "execution_count": null,
   "metadata": {},
   "outputs": [],
   "source": [
    "len(df_main)"
   ]
  },
  {
   "cell_type": "code",
   "execution_count": null,
   "metadata": {},
   "outputs": [],
   "source": [
    "len(df_main[df_main[\"acts_cited\"]!=\"[]\"])"
   ]
  },
  {
   "cell_type": "code",
   "execution_count": null,
   "metadata": {},
   "outputs": [],
   "source": [
    "df_non_null = df_main[df_main[\"acts_cited\"]!=\"[]\"]"
   ]
  },
  {
   "cell_type": "code",
   "execution_count": null,
   "metadata": {},
   "outputs": [],
   "source": [
    "preethikas_list = [\"Water (Prevention and Control of Pollution) Act 1974 (Water Act)\",\n",
    "                  \"Air (Prevention and Control of Pollution) Act 1981 (Air Act)\",\n",
    "                  \"Environment (Protection) Act 1986 (EP Act)\",\n",
    "                  \"E-Waste (Management) Rules 2016\",\n",
    "                  \"Batteries (Management & Handling) Rules 2001\",\n",
    "                  \"Battery Waste Management Rules 2020\",\n",
    "                  \"Bio-Medical Waste Management Rules 2016\",\n",
    "                  \"Plastic Waste Management Rules 2016\",\n",
    "                  \"Solid Waste Management Rules 2016\",\n",
    "                  \"Construction and Demolition Waste Management Rules 2016\",\n",
    "                  \"Hazardous and Other Waste (Management and Transboundary Movement) Rules 2016\",\n",
    "                  \"Manufacture, Storage and Import of Hazardous Chemicals Rules 1989 (MSIHC Rules)\",\n",
    "                  \"Coastal Regulation Zone Notification 2019 (and related 2021 procedure for violation of the CRZ Notification)\",\n",
    "                  \"Environment Impact Assessment Notification 2006\",\n",
    "                  \"Wild Life (Protection) Act 1972\",\n",
    "                  \"Forest (Conservation) Act 1980\",\n",
    "                  \"Public Liability Insurance Act 1991\",\n",
    "                  \"Biological Diversity Act 2002\",\n",
    "                  \"National Green Tribunal Act 2010\",\n",
    "                  \"Section 91 of the Civil Procedure Code\",\n",
    "                    \"The Water (Prevention and Control of Pollution) Cess Act, 1977\",\n",
    "                    \"The Forest (Conservation) Act, 1980\",\n",
    "                    \"The Air (Prevention and Control of Pollution) Act, 1981\",\n",
    "                    \"The Environment (Protection) Act, 1986\",\n",
    "                    \"The Public Liability Insurance Act, 1991\",\n",
    "                    \"The Biological Diversity Act, 2002\"\n",
    "                    ]"
   ]
  },
  {
   "cell_type": "code",
   "execution_count": null,
   "metadata": {},
   "outputs": [],
   "source": [
    "more_acts_from_text = ['the air  prevention and control of pollution  act  1981',\n",
    " 'article 226 in the constitution of india   1949',\n",
    " 'the environment  protection  act  1986',\n",
    " 'the water  prevention and control of pollution  act  1974',\n",
    " 'section 21 in the air  prevention and control of pollution  act  1981',\n",
    " 'section 25 in the water  prevention and control of pollution  act  1974',\n",
    " 'article 21 in the constitution of india   1949',\n",
    " 'section 31 in the air  prevention and control of pollution  act  1981',\n",
    " 'section 31a in the air  prevention and control of pollution  act  1981',\n",
    " 'section 44 in the water  prevention and control of pollution  act  1974',\n",
    " 'section 37 in the air  prevention and control of pollution  act  1981',\n",
    " 'section 33a in the water  prevention and control of pollution  act  1974',\n",
    " 'section 15 in the air  prevention and control of pollution  act  1981',\n",
    " 'section 26 in the water  prevention and control of pollution  act  1974',\n",
    " 'section 14 in the air  prevention and control of pollution  act  1981',\n",
    " 'section 29 in the air  prevention and control of pollution  act  1981',\n",
    " 'section 3 in the air  prevention and control of pollution  act  1981',\n",
    " 'section 33 in the water  prevention and control of pollution  act  1974',\n",
    " 'the national green tribunal act  2010',\n",
    " 'section 25 in the air  prevention and control of pollution  act  1981',\n",
    " 'section 5 in the environment  protection  act  1986',\n",
    " 'section 47 in the water  prevention and control of pollution  act  1974',\n",
    " 'section 43 in the water  prevention and control of pollution  act  1974',\n",
    " 'section 28 in the water  prevention and control of pollution  act  1974',\n",
    " 'section 3 in the environment  protection  act  1986',\n",
    " 'section 6 in the air  prevention and control of pollution  act  1981',\n",
    " 'article 32 in the constitution of india   1949',\n",
    " 'section 15 in the environment  protection  act  1986',\n",
    " 'm c  mehta vs union of india   ors on 18 march  2004',\n",
    " 'section 24 in the water  prevention and control of pollution  act  1974']"
   ]
  },
  {
   "cell_type": "code",
   "execution_count": null,
   "metadata": {},
   "outputs": [],
   "source": [
    "final_list = preethikas_list+more_acts_from_text"
   ]
  },
  {
   "cell_type": "code",
   "execution_count": null,
   "metadata": {},
   "outputs": [],
   "source": [
    "def Punctuation(string):\n",
    "\n",
    "    # punctuation marks\n",
    "    punctuations = '''!()-[]{};:'\"\\,<>./?@#$%^&*_~'''\n",
    "\n",
    "    # traverse the given string and if any punctuation\n",
    "    # marks occur replace it with null\n",
    "    string = string.replace(\"\\n\", \"\")\n",
    "    for x in string.lower():\n",
    "        if x in punctuations:\n",
    "            string = string.replace(x, \" \")\n",
    "            \n",
    "    string = string.strip()\n",
    "    string = string.replace(\"  \", \" \")\n",
    "    \n",
    "    return string"
   ]
  },
  {
   "cell_type": "code",
   "execution_count": null,
   "metadata": {},
   "outputs": [],
   "source": [
    "final_list = [Punctuation(ele.lower()) for ele in final_list]"
   ]
  },
  {
   "cell_type": "code",
   "execution_count": null,
   "metadata": {},
   "outputs": [],
   "source": [
    "final_list"
   ]
  },
  {
   "cell_type": "code",
   "execution_count": null,
   "metadata": {},
   "outputs": [],
   "source": [
    "final_list = ['water prevention and control of pollution act 1974 water act',\n",
    " 'air prevention and control of pollution act 1981 air act',\n",
    " 'environment protection act 1986 ep act',\n",
    " 'e waste management rules 2016',\n",
    " 'batteries management  handling rules 2001',\n",
    " 'battery waste management rules 2020',\n",
    " 'bio medical waste management rules 2016',\n",
    " 'plastic waste management rules 2016',\n",
    " 'solid waste management rules 2016',\n",
    " 'construction and demolition waste management rules 2016',\n",
    " 'hazardous and other waste management and transboundary movement rules 2016',\n",
    " 'manufacture storage and import of hazardous chemicals rules 1989 msihc rules',\n",
    " 'coastal regulation zone notification 2019 and related 2021 procedure for violation of the crz notification',\n",
    " 'environment impact assessment notification 2006',\n",
    " 'wild life protection act 1972',\n",
    " 'forest conservation act 1980',\n",
    "\n",
    " 'biological diversity act 2002',\n",
    " 'national green tribunal act 2010',\n",
    " 'section 91 of the civil procedure code',\n",
    " 'the water prevention and control of pollution cess act 1977',\n",
    " 'the forest conservation act 1980',\n",
    " 'the air prevention and control of pollution act 1981',\n",
    " 'the environment protection act 1986',\n",
    " 'the public liability insurance act 1991',\n",
    " 'the biological diversity act 2002',\n",
    " 'the air prevention and control of pollution act 1981',\n",
    "\n",
    " 'the environment protection act 1986',\n",
    " 'the water prevention and control of pollution act 1974',\n",
    " 'section 21 in the air prevention and control of pollution act 1981',\n",
    " 'section 25 in the water prevention and control of pollution act 1974',\n",
    "\n",
    " 'section 31 in the air prevention and control of pollution act 1981',\n",
    " 'section 31a in the air prevention and control of pollution act 1981',\n",
    " 'section 44 in the water prevention and control of pollution act 1974',\n",
    " 'section 37 in the air prevention and control of pollution act 1981',\n",
    " 'section 33a in the water prevention and control of pollution act 1974',\n",
    " 'section 15 in the air prevention and control of pollution act 1981',\n",
    " 'section 26 in the water prevention and control of pollution act 1974',\n",
    " 'section 14 in the air prevention and control of pollution act 1981',\n",
    " 'section 29 in the air prevention and control of pollution act 1981',\n",
    " 'section 3 in the air prevention and control of pollution act 1981',\n",
    " 'section 33 in the water prevention and control of pollution act 1974',\n",
    " 'the national green tribunal act 2010',\n",
    " 'section 25 in the air prevention and control of pollution act 1981',\n",
    " 'section 5 in the environment protection act 1986',\n",
    " 'section 47 in the water prevention and control of pollution act 1974',\n",
    " 'section 43 in the water prevention and control of pollution act 1974',\n",
    " 'section 28 in the water prevention and control of pollution act 1974',\n",
    " 'section 3 in the environment protection act 1986',\n",
    " 'section 6 in the air prevention and control of pollution act 1981',\n",
    "\n",
    " 'section 15 in the environment protection act 1986',\n",
    " 'm c mehta vs union of india  ors on 18 march 2004',\n",
    " 'section 24 in the water prevention and control of pollution act 1974']"
   ]
  },
  {
   "cell_type": "code",
   "execution_count": null,
   "metadata": {},
   "outputs": [],
   "source": [
    "df_non_null[\"acts_cited\"] = df_non_null[\"acts_cited\"].apply(lambda x: ast.literal_eval(x))"
   ]
  },
  {
   "cell_type": "code",
   "execution_count": null,
   "metadata": {},
   "outputs": [],
   "source": [
    "from tqdm.notebook import tqdm\n",
    "tqdm.pandas()"
   ]
  },
  {
   "cell_type": "code",
   "execution_count": null,
   "metadata": {},
   "outputs": [],
   "source": [
    "df_non_null[\"acts_cited\"] = df_non_null[\"acts_cited\"].progress_apply(lambda x: [Punctuation(ele.lower()) for ele in x])"
   ]
  },
  {
   "cell_type": "code",
   "execution_count": null,
   "metadata": {},
   "outputs": [],
   "source": [
    "df_non_null[\"acts_cited\"]"
   ]
  },
  {
   "cell_type": "code",
   "execution_count": null,
   "metadata": {},
   "outputs": [],
   "source": [
    "def acts_matcher(list_green_acts, list_acts):\n",
    "    \n",
    "    #cache = 0\n",
    "    list_matched_acts = []\n",
    "    \n",
    "    for act in list_acts:\n",
    "        \n",
    "        cache = 0\n",
    "        flag = 0\n",
    "        \n",
    "        for green_act in list_green_acts:\n",
    "            \n",
    "            score = fuzz.token_set_ratio(act, green_act)\n",
    "            \n",
    "            if (score > 90 and score > cache):\n",
    "                flag = 1\n",
    "                cache = score\n",
    "                matched_act = green_act\n",
    "                \n",
    "        if flag==1:\n",
    "            \n",
    "            list_matched_acts.append(matched_act)\n",
    "            \n",
    "        else:\n",
    "            continue\n",
    "            \n",
    "    return list_matched_acts\n",
    "                "
   ]
  },
  {
   "cell_type": "code",
   "execution_count": null,
   "metadata": {},
   "outputs": [],
   "source": [
    "df_non_null[\"matched_acts\"] = df_non_null[\"acts_cited\"].progress_apply(lambda x: acts_matcher(final_list, x))"
   ]
  },
  {
   "cell_type": "code",
   "execution_count": null,
   "metadata": {},
   "outputs": [],
   "source": [
    "df_non_null[\"matched_acts\"].head()"
   ]
  },
  {
   "cell_type": "code",
   "execution_count": null,
   "metadata": {},
   "outputs": [],
   "source": [
    "df_non_null.to_csv(citations_data+\"matched_acts.csv\")"
   ]
  },
  {
   "cell_type": "code",
   "execution_count": null,
   "metadata": {},
   "outputs": [],
   "source": [
    "df_non_null[\"matched_acts\"] = df_non_null[\"matched_acts\"].apply(lambda x : str(x))"
   ]
  },
  {
   "cell_type": "code",
   "execution_count": null,
   "metadata": {},
   "outputs": [],
   "source": [
    "df_non_null_matched = df_non_null[df_non_null[\"matched_acts\"]!=\"[]\"]"
   ]
  },
  {
   "cell_type": "code",
   "execution_count": null,
   "metadata": {},
   "outputs": [],
   "source": [
    "len(df_non_null_matched)"
   ]
  },
  {
   "cell_type": "code",
   "execution_count": null,
   "metadata": {},
   "outputs": [],
   "source": [
    "df_non_null_matched[\"1981_dum\"] = df_non_null_matched[\"matched_acts\"].apply(lambda x: 1 if \"1981\" in x else 0)"
   ]
  },
  {
   "cell_type": "code",
   "execution_count": null,
   "metadata": {},
   "outputs": [],
   "source": [
    "df_non_null_matched[\"1981_dum\"].describe()"
   ]
  },
  {
   "cell_type": "code",
   "execution_count": null,
   "metadata": {},
   "outputs": [],
   "source": [
    "df_non_null_matched.to_csv(citations_data+\"possible_air_corpus.csv\")"
   ]
  },
  {
   "cell_type": "code",
   "execution_count": 20,
   "metadata": {},
   "outputs": [],
   "source": [
    "import pandas as pd\n",
    "pd.set_option('display.max_columns', None)\n",
    "import numpy as np\n",
    "from nltk import FreqDist\n",
    "import seaborn as sns\n",
    "sns.set(rc={'figure.figsize':(11.7,8.27)})\n",
    "import matplotlib.pyplot as plt\n",
    "sns.set_palette(\"pastel\")\n",
    "import ast\n",
    "import networkx as nx\n",
    "from bs4 import BeautifulSoup\n",
    "import regex as re\n",
    "import tqdm\n",
    "import glob\n",
    "import os\n",
    "from fuzzywuzzy import fuzz\n",
    "\n",
    "import multiprocessing\n",
    "from multiprocessing import Process, Manager\n",
    "\n",
    "import numexpr as ne"
   ]
  },
  {
   "cell_type": "code",
   "execution_count": 21,
   "metadata": {},
   "outputs": [],
   "source": [
    "citations_data = r\"C:\\Users\\wb570559\\Dropbox\\AIR POLLUTION PROJECT\\ANALYSIS\\DATA\\processed_data\\citations_data_full\\\\\""
   ]
  },
  {
   "cell_type": "code",
   "execution_count": 22,
   "metadata": {},
   "outputs": [],
   "source": [
    "df_non_null_matched = pd.read_csv(citations_data+\"possible_air_corpus.csv\").drop([\"Unnamed: 0\"], axis=1)"
   ]
  },
  {
   "cell_type": "code",
   "execution_count": 23,
   "metadata": {},
   "outputs": [],
   "source": [
    "kanoon_metadata_path = r\"C:\\Users\\wb570559\\Dropbox\\AIR POLLUTION PROJECT\\INPUT\\DATA\\Law\\cleaned_csv\\cleaned_csv\\\\\""
   ]
  },
  {
   "cell_type": "code",
   "execution_count": 24,
   "metadata": {},
   "outputs": [],
   "source": [
    "df_citations = pd.read_csv(kanoon_metadata_path+\"df_citations.csv\").drop([\"Unnamed: 0\"], axis=1)"
   ]
  },
  {
   "cell_type": "code",
   "execution_count": 25,
   "metadata": {},
   "outputs": [],
   "source": [
    "df_cited_doc = pd.read_csv(kanoon_metadata_path+\"df_cited_doc.csv\").drop([\"Unnamed: 0\"], axis=1)"
   ]
  },
  {
   "cell_type": "code",
   "execution_count": 26,
   "metadata": {},
   "outputs": [],
   "source": [
    "df_judges = pd.read_csv(kanoon_metadata_path+\"df_judges.csv\").drop([\"Unnamed: 0\"], axis=1)"
   ]
  },
  {
   "cell_type": "code",
   "execution_count": 27,
   "metadata": {},
   "outputs": [
    {
     "name": "stderr",
     "output_type": "stream",
     "text": [
      "C:\\WBG\\anaconda\\lib\\site-packages\\IPython\\core\\interactiveshell.py:3146: DtypeWarning: Columns (3) have mixed types.Specify dtype option on import or set low_memory=False.\n",
      "  has_raised = await self.run_ast_nodes(code_ast.body, cell_name,\n"
     ]
    }
   ],
   "source": [
    "df_meta =  pd.read_csv(kanoon_metadata_path+\"df_meta.csv\").drop([\"Unnamed: 0\"], axis=1)"
   ]
  },
  {
   "cell_type": "code",
   "execution_count": 28,
   "metadata": {},
   "outputs": [],
   "source": [
    "df_statutes = pd.read_csv(kanoon_metadata_path+\"df_statutes.csv\").drop([\"Unnamed: 0\"], axis=1)"
   ]
  },
  {
   "cell_type": "code",
   "execution_count": 29,
   "metadata": {},
   "outputs": [
    {
     "data": {
      "text/html": [
       "<div>\n",
       "<style scoped>\n",
       "    .dataframe tbody tr th:only-of-type {\n",
       "        vertical-align: middle;\n",
       "    }\n",
       "\n",
       "    .dataframe tbody tr th {\n",
       "        vertical-align: top;\n",
       "    }\n",
       "\n",
       "    .dataframe thead th {\n",
       "        text-align: right;\n",
       "    }\n",
       "</style>\n",
       "<table border=\"1\" class=\"dataframe\">\n",
       "  <thead>\n",
       "    <tr style=\"text-align: right;\">\n",
       "      <th></th>\n",
       "      <th>kanoon_id</th>\n",
       "      <th>eq_cite</th>\n",
       "    </tr>\n",
       "  </thead>\n",
       "  <tbody>\n",
       "    <tr>\n",
       "      <th>0</th>\n",
       "      <td>1014770</td>\n",
       "      <td>[' (1900) ILR 22 All 367']</td>\n",
       "    </tr>\n",
       "    <tr>\n",
       "      <th>1</th>\n",
       "      <td>1031698</td>\n",
       "      <td>[' (1900) ILR 22 All 321']</td>\n",
       "    </tr>\n",
       "    <tr>\n",
       "      <th>2</th>\n",
       "      <td>103657</td>\n",
       "      <td>[' (1900) ILR 22 All 405']</td>\n",
       "    </tr>\n",
       "    <tr>\n",
       "      <th>3</th>\n",
       "      <td>1180938</td>\n",
       "      <td>[' (1900) ILR 22 All 340']</td>\n",
       "    </tr>\n",
       "    <tr>\n",
       "      <th>4</th>\n",
       "      <td>1215488</td>\n",
       "      <td>[' (1900) ILR 22 All 284']</td>\n",
       "    </tr>\n",
       "  </tbody>\n",
       "</table>\n",
       "</div>"
      ],
      "text/plain": [
       "   kanoon_id                     eq_cite\n",
       "0    1014770  [' (1900) ILR 22 All 367']\n",
       "1    1031698  [' (1900) ILR 22 All 321']\n",
       "2     103657  [' (1900) ILR 22 All 405']\n",
       "3    1180938  [' (1900) ILR 22 All 340']\n",
       "4    1215488  [' (1900) ILR 22 All 284']"
      ]
     },
     "execution_count": 29,
     "metadata": {},
     "output_type": "execute_result"
    }
   ],
   "source": [
    "df_citations.head()"
   ]
  },
  {
   "cell_type": "code",
   "execution_count": 30,
   "metadata": {},
   "outputs": [
    {
     "data": {
      "text/html": [
       "<div>\n",
       "<style scoped>\n",
       "    .dataframe tbody tr th:only-of-type {\n",
       "        vertical-align: middle;\n",
       "    }\n",
       "\n",
       "    .dataframe tbody tr th {\n",
       "        vertical-align: top;\n",
       "    }\n",
       "\n",
       "    .dataframe thead th {\n",
       "        text-align: right;\n",
       "    }\n",
       "</style>\n",
       "<table border=\"1\" class=\"dataframe\">\n",
       "  <thead>\n",
       "    <tr style=\"text-align: right;\">\n",
       "      <th></th>\n",
       "      <th>kanoon_id</th>\n",
       "      <th>kanoon_ids_cited</th>\n",
       "    </tr>\n",
       "  </thead>\n",
       "  <tbody>\n",
       "    <tr>\n",
       "      <th>0</th>\n",
       "      <td>1014770</td>\n",
       "      <td>[]</td>\n",
       "    </tr>\n",
       "    <tr>\n",
       "      <th>1</th>\n",
       "      <td>1031698</td>\n",
       "      <td>[]</td>\n",
       "    </tr>\n",
       "    <tr>\n",
       "      <th>2</th>\n",
       "      <td>103657</td>\n",
       "      <td>[707073]</td>\n",
       "    </tr>\n",
       "    <tr>\n",
       "      <th>3</th>\n",
       "      <td>1180938</td>\n",
       "      <td>[445276]</td>\n",
       "    </tr>\n",
       "    <tr>\n",
       "      <th>4</th>\n",
       "      <td>1215488</td>\n",
       "      <td>[151798, 1705657, 1505714, 1626845]</td>\n",
       "    </tr>\n",
       "  </tbody>\n",
       "</table>\n",
       "</div>"
      ],
      "text/plain": [
       "   kanoon_id                     kanoon_ids_cited\n",
       "0    1014770                                   []\n",
       "1    1031698                                   []\n",
       "2     103657                             [707073]\n",
       "3    1180938                             [445276]\n",
       "4    1215488  [151798, 1705657, 1505714, 1626845]"
      ]
     },
     "execution_count": 30,
     "metadata": {},
     "output_type": "execute_result"
    }
   ],
   "source": [
    "df_cited_doc.head()"
   ]
  },
  {
   "cell_type": "code",
   "execution_count": 31,
   "metadata": {},
   "outputs": [
    {
     "data": {
      "text/html": [
       "<div>\n",
       "<style scoped>\n",
       "    .dataframe tbody tr th:only-of-type {\n",
       "        vertical-align: middle;\n",
       "    }\n",
       "\n",
       "    .dataframe tbody tr th {\n",
       "        vertical-align: top;\n",
       "    }\n",
       "\n",
       "    .dataframe thead th {\n",
       "        text-align: right;\n",
       "    }\n",
       "</style>\n",
       "<table border=\"1\" class=\"dataframe\">\n",
       "  <thead>\n",
       "    <tr style=\"text-align: right;\">\n",
       "      <th></th>\n",
       "      <th>kanoon_id</th>\n",
       "      <th>judge_court</th>\n",
       "    </tr>\n",
       "  </thead>\n",
       "  <tbody>\n",
       "    <tr>\n",
       "      <th>0</th>\n",
       "      <td>1014770</td>\n",
       "      <td>[(' Banerji', 'Allahabad High Court'), (' Aikm...</td>\n",
       "    </tr>\n",
       "    <tr>\n",
       "      <th>1</th>\n",
       "      <td>1031698</td>\n",
       "      <td>[(' Banerji', 'Allahabad High Court'), (' Aikm...</td>\n",
       "    </tr>\n",
       "    <tr>\n",
       "      <th>2</th>\n",
       "      <td>103657</td>\n",
       "      <td>[(' Knox', 'Allahabad High Court'), (' Blair',...</td>\n",
       "    </tr>\n",
       "    <tr>\n",
       "      <th>3</th>\n",
       "      <td>1180938</td>\n",
       "      <td>[(' Knox', 'Allahabad High Court'), (' Blair',...</td>\n",
       "    </tr>\n",
       "    <tr>\n",
       "      <th>4</th>\n",
       "      <td>1215488</td>\n",
       "      <td>[(' A Strachey', 'Allahabad High Court'), (' K...</td>\n",
       "    </tr>\n",
       "  </tbody>\n",
       "</table>\n",
       "</div>"
      ],
      "text/plain": [
       "   kanoon_id                                        judge_court\n",
       "0    1014770  [(' Banerji', 'Allahabad High Court'), (' Aikm...\n",
       "1    1031698  [(' Banerji', 'Allahabad High Court'), (' Aikm...\n",
       "2     103657  [(' Knox', 'Allahabad High Court'), (' Blair',...\n",
       "3    1180938  [(' Knox', 'Allahabad High Court'), (' Blair',...\n",
       "4    1215488  [(' A Strachey', 'Allahabad High Court'), (' K..."
      ]
     },
     "execution_count": 31,
     "metadata": {},
     "output_type": "execute_result"
    }
   ],
   "source": [
    "df_judges.head()"
   ]
  },
  {
   "cell_type": "code",
   "execution_count": 32,
   "metadata": {},
   "outputs": [
    {
     "data": {
      "text/html": [
       "<div>\n",
       "<style scoped>\n",
       "    .dataframe tbody tr th:only-of-type {\n",
       "        vertical-align: middle;\n",
       "    }\n",
       "\n",
       "    .dataframe tbody tr th {\n",
       "        vertical-align: top;\n",
       "    }\n",
       "\n",
       "    .dataframe thead th {\n",
       "        text-align: right;\n",
       "    }\n",
       "</style>\n",
       "<table border=\"1\" class=\"dataframe\">\n",
       "  <thead>\n",
       "    <tr style=\"text-align: right;\">\n",
       "      <th></th>\n",
       "      <th>kanoon_id</th>\n",
       "      <th>court</th>\n",
       "      <th>author</th>\n",
       "      <th>title</th>\n",
       "      <th>petitioner</th>\n",
       "      <th>respondent</th>\n",
       "      <th>doc_date</th>\n",
       "      <th>pre</th>\n",
       "      <th>judgment_or_order</th>\n",
       "    </tr>\n",
       "  </thead>\n",
       "  <tbody>\n",
       "    <tr>\n",
       "      <th>0</th>\n",
       "      <td>1014770</td>\n",
       "      <td>Allahabad High Court</td>\n",
       "      <td>Banerji</td>\n",
       "      <td>Jafri Begam vs Saira Bibi on 1 June, 1900</td>\n",
       "      <td>Jafri Begam</td>\n",
       "      <td>Saira Bibi</td>\n",
       "      <td>1900-06-01</td>\n",
       "      <td>NaN</td>\n",
       "      <td>1</td>\n",
       "    </tr>\n",
       "    <tr>\n",
       "      <th>1</th>\n",
       "      <td>1031698</td>\n",
       "      <td>Allahabad High Court</td>\n",
       "      <td>B A Aikman</td>\n",
       "      <td>Sheo Sampat Pande And Anr. vs Bandhu Prasad Mi...</td>\n",
       "      <td>Sheo Sampat Pande And Anr.</td>\n",
       "      <td>Bandhu Prasad Misr And Ors.</td>\n",
       "      <td>1900-04-17</td>\n",
       "      <td>NaN</td>\n",
       "      <td>1</td>\n",
       "    </tr>\n",
       "    <tr>\n",
       "      <th>2</th>\n",
       "      <td>103657</td>\n",
       "      <td>Allahabad High Court</td>\n",
       "      <td>NaN</td>\n",
       "      <td>Hafiz Abdul Rahim Khan vs Raja Hari Raj Singh ...</td>\n",
       "      <td>Hafiz Abdul Rahim Khan</td>\n",
       "      <td>Raja Hari Raj Singh</td>\n",
       "      <td>1900-06-14</td>\n",
       "      <td>NaN</td>\n",
       "      <td>1</td>\n",
       "    </tr>\n",
       "    <tr>\n",
       "      <th>3</th>\n",
       "      <td>1180938</td>\n",
       "      <td>Allahabad High Court</td>\n",
       "      <td>NaN</td>\n",
       "      <td>Queen-Empress vs Narain Singh on 14 May, 1900</td>\n",
       "      <td>Queen-Empress</td>\n",
       "      <td>Narain Singh</td>\n",
       "      <td>1900-05-14</td>\n",
       "      <td>NaN</td>\n",
       "      <td>1</td>\n",
       "    </tr>\n",
       "    <tr>\n",
       "      <th>4</th>\n",
       "      <td>1215488</td>\n",
       "      <td>Allahabad High Court</td>\n",
       "      <td>Banerji</td>\n",
       "      <td>Bisheshur Dial And Anr. vs Ram Sarup on 3 Apri...</td>\n",
       "      <td>Bisheshur Dial And Anr.</td>\n",
       "      <td>Ram Sarup</td>\n",
       "      <td>1900-04-03</td>\n",
       "      <td>NaN</td>\n",
       "      <td>1</td>\n",
       "    </tr>\n",
       "  </tbody>\n",
       "</table>\n",
       "</div>"
      ],
      "text/plain": [
       "   kanoon_id                 court       author  \\\n",
       "0    1014770  Allahabad High Court      Banerji   \n",
       "1    1031698  Allahabad High Court   B A Aikman   \n",
       "2     103657  Allahabad High Court          NaN   \n",
       "3    1180938  Allahabad High Court          NaN   \n",
       "4    1215488  Allahabad High Court      Banerji   \n",
       "\n",
       "                                               title  \\\n",
       "0          Jafri Begam vs Saira Bibi on 1 June, 1900   \n",
       "1  Sheo Sampat Pande And Anr. vs Bandhu Prasad Mi...   \n",
       "2  Hafiz Abdul Rahim Khan vs Raja Hari Raj Singh ...   \n",
       "3      Queen-Empress vs Narain Singh on 14 May, 1900   \n",
       "4  Bisheshur Dial And Anr. vs Ram Sarup on 3 Apri...   \n",
       "\n",
       "                   petitioner                   respondent    doc_date  pre  \\\n",
       "0                 Jafri Begam                   Saira Bibi  1900-06-01  NaN   \n",
       "1  Sheo Sampat Pande And Anr.  Bandhu Prasad Misr And Ors.  1900-04-17  NaN   \n",
       "2      Hafiz Abdul Rahim Khan          Raja Hari Raj Singh  1900-06-14  NaN   \n",
       "3               Queen-Empress                 Narain Singh  1900-05-14  NaN   \n",
       "4     Bisheshur Dial And Anr.                    Ram Sarup  1900-04-03  NaN   \n",
       "\n",
       "   judgment_or_order  \n",
       "0                  1  \n",
       "1                  1  \n",
       "2                  1  \n",
       "3                  1  \n",
       "4                  1  "
      ]
     },
     "execution_count": 32,
     "metadata": {},
     "output_type": "execute_result"
    }
   ],
   "source": [
    "df_meta.head()"
   ]
  },
  {
   "cell_type": "code",
   "execution_count": 33,
   "metadata": {},
   "outputs": [
    {
     "data": {
      "text/html": [
       "<div>\n",
       "<style scoped>\n",
       "    .dataframe tbody tr th:only-of-type {\n",
       "        vertical-align: middle;\n",
       "    }\n",
       "\n",
       "    .dataframe tbody tr th {\n",
       "        vertical-align: top;\n",
       "    }\n",
       "\n",
       "    .dataframe thead th {\n",
       "        text-align: right;\n",
       "    }\n",
       "</style>\n",
       "<table border=\"1\" class=\"dataframe\">\n",
       "  <thead>\n",
       "    <tr style=\"text-align: right;\">\n",
       "      <th></th>\n",
       "      <th>kanoon_id</th>\n",
       "      <th>doc_id</th>\n",
       "    </tr>\n",
       "  </thead>\n",
       "  <tbody>\n",
       "    <tr>\n",
       "      <th>0</th>\n",
       "      <td>1014770</td>\n",
       "      <td>[]</td>\n",
       "    </tr>\n",
       "    <tr>\n",
       "      <th>1</th>\n",
       "      <td>1031698</td>\n",
       "      <td>[]</td>\n",
       "    </tr>\n",
       "    <tr>\n",
       "      <th>2</th>\n",
       "      <td>103657</td>\n",
       "      <td>[707073]</td>\n",
       "    </tr>\n",
       "    <tr>\n",
       "      <th>3</th>\n",
       "      <td>1180938</td>\n",
       "      <td>[445276]</td>\n",
       "    </tr>\n",
       "    <tr>\n",
       "      <th>4</th>\n",
       "      <td>1215488</td>\n",
       "      <td>[151798, 1705657, 1505714, 1626845]</td>\n",
       "    </tr>\n",
       "  </tbody>\n",
       "</table>\n",
       "</div>"
      ],
      "text/plain": [
       "   kanoon_id                               doc_id\n",
       "0    1014770                                   []\n",
       "1    1031698                                   []\n",
       "2     103657                             [707073]\n",
       "3    1180938                             [445276]\n",
       "4    1215488  [151798, 1705657, 1505714, 1626845]"
      ]
     },
     "execution_count": 33,
     "metadata": {},
     "output_type": "execute_result"
    }
   ],
   "source": [
    "df_statutes.head()"
   ]
  },
  {
   "cell_type": "code",
   "execution_count": 34,
   "metadata": {},
   "outputs": [
    {
     "data": {
      "text/html": [
       "<div>\n",
       "<style scoped>\n",
       "    .dataframe tbody tr th:only-of-type {\n",
       "        vertical-align: middle;\n",
       "    }\n",
       "\n",
       "    .dataframe tbody tr th {\n",
       "        vertical-align: top;\n",
       "    }\n",
       "\n",
       "    .dataframe thead th {\n",
       "        text-align: right;\n",
       "    }\n",
       "</style>\n",
       "<table border=\"1\" class=\"dataframe\">\n",
       "  <thead>\n",
       "    <tr style=\"text-align: right;\">\n",
       "      <th></th>\n",
       "      <th>kanoon_id</th>\n",
       "      <th>acts_cited</th>\n",
       "      <th>matched_acts</th>\n",
       "      <th>1981_dum</th>\n",
       "    </tr>\n",
       "  </thead>\n",
       "  <tbody>\n",
       "    <tr>\n",
       "      <th>0</th>\n",
       "      <td>1026316</td>\n",
       "      <td>['the forest conservation act 1980', 'the indi...</td>\n",
       "      <td>['forest conservation act 1980', 'forest conse...</td>\n",
       "      <td>0</td>\n",
       "    </tr>\n",
       "    <tr>\n",
       "      <th>1</th>\n",
       "      <td>10391123</td>\n",
       "      <td>['the environment protection act 1986', 'the c...</td>\n",
       "      <td>['the environment protection act 1986']</td>\n",
       "      <td>0</td>\n",
       "    </tr>\n",
       "    <tr>\n",
       "      <th>2</th>\n",
       "      <td>105012226</td>\n",
       "      <td>['section 9 in the wild life protection act 19...</td>\n",
       "      <td>['wild life protection act 1972', 'wild life p...</td>\n",
       "      <td>0</td>\n",
       "    </tr>\n",
       "    <tr>\n",
       "      <th>3</th>\n",
       "      <td>1054793</td>\n",
       "      <td>['section 2 in the forest conservation act 198...</td>\n",
       "      <td>['forest conservation act 1980', 'forest conse...</td>\n",
       "      <td>0</td>\n",
       "    </tr>\n",
       "    <tr>\n",
       "      <th>4</th>\n",
       "      <td>107410576</td>\n",
       "      <td>['section 91 in the code of criminal procedure...</td>\n",
       "      <td>['section 91 of the civil procedure code']</td>\n",
       "      <td>0</td>\n",
       "    </tr>\n",
       "  </tbody>\n",
       "</table>\n",
       "</div>"
      ],
      "text/plain": [
       "   kanoon_id                                         acts_cited  \\\n",
       "0    1026316  ['the forest conservation act 1980', 'the indi...   \n",
       "1   10391123  ['the environment protection act 1986', 'the c...   \n",
       "2  105012226  ['section 9 in the wild life protection act 19...   \n",
       "3    1054793  ['section 2 in the forest conservation act 198...   \n",
       "4  107410576  ['section 91 in the code of criminal procedure...   \n",
       "\n",
       "                                        matched_acts  1981_dum  \n",
       "0  ['forest conservation act 1980', 'forest conse...         0  \n",
       "1            ['the environment protection act 1986']         0  \n",
       "2  ['wild life protection act 1972', 'wild life p...         0  \n",
       "3  ['forest conservation act 1980', 'forest conse...         0  \n",
       "4         ['section 91 of the civil procedure code']         0  "
      ]
     },
     "execution_count": 34,
     "metadata": {},
     "output_type": "execute_result"
    }
   ],
   "source": [
    "df_non_null_matched.head()"
   ]
  },
  {
   "cell_type": "code",
   "execution_count": 35,
   "metadata": {},
   "outputs": [],
   "source": [
    "df_non_null_matched = pd.merge(df_non_null_matched, df_citations, on = \"kanoon_id\", how = \"left\")"
   ]
  },
  {
   "cell_type": "code",
   "execution_count": 36,
   "metadata": {},
   "outputs": [],
   "source": [
    "df_non_null_matched = pd.merge(df_non_null_matched, df_cited_doc, on = \"kanoon_id\", how = \"left\")"
   ]
  },
  {
   "cell_type": "code",
   "execution_count": 37,
   "metadata": {},
   "outputs": [],
   "source": [
    "df_non_null_matched = pd.merge(df_non_null_matched, df_judges, on = \"kanoon_id\", how = \"left\")"
   ]
  },
  {
   "cell_type": "code",
   "execution_count": 38,
   "metadata": {},
   "outputs": [],
   "source": [
    "df_non_null_matched = pd.merge(df_non_null_matched, df_meta, on = \"kanoon_id\", how = \"left\")"
   ]
  },
  {
   "cell_type": "code",
   "execution_count": 39,
   "metadata": {},
   "outputs": [
    {
     "data": {
      "text/html": [
       "<div>\n",
       "<style scoped>\n",
       "    .dataframe tbody tr th:only-of-type {\n",
       "        vertical-align: middle;\n",
       "    }\n",
       "\n",
       "    .dataframe tbody tr th {\n",
       "        vertical-align: top;\n",
       "    }\n",
       "\n",
       "    .dataframe thead th {\n",
       "        text-align: right;\n",
       "    }\n",
       "</style>\n",
       "<table border=\"1\" class=\"dataframe\">\n",
       "  <thead>\n",
       "    <tr style=\"text-align: right;\">\n",
       "      <th></th>\n",
       "      <th>kanoon_id</th>\n",
       "      <th>acts_cited</th>\n",
       "      <th>matched_acts</th>\n",
       "      <th>1981_dum</th>\n",
       "      <th>eq_cite</th>\n",
       "      <th>kanoon_ids_cited</th>\n",
       "      <th>judge_court</th>\n",
       "      <th>court</th>\n",
       "      <th>author</th>\n",
       "      <th>title</th>\n",
       "      <th>petitioner</th>\n",
       "      <th>respondent</th>\n",
       "      <th>doc_date</th>\n",
       "      <th>pre</th>\n",
       "      <th>judgment_or_order</th>\n",
       "    </tr>\n",
       "  </thead>\n",
       "  <tbody>\n",
       "    <tr>\n",
       "      <th>0</th>\n",
       "      <td>1026316</td>\n",
       "      <td>['the forest conservation act 1980', 'the indi...</td>\n",
       "      <td>['forest conservation act 1980', 'forest conse...</td>\n",
       "      <td>0</td>\n",
       "      <td>[]</td>\n",
       "      <td>[871328, 867010, 72095, 824830, 1781078, 16655...</td>\n",
       "      <td>[(' Y.K.Sabharwal', 'Supreme Court of India'),...</td>\n",
       "      <td>Supreme Court of India</td>\n",
       "      <td>Y Sabharwal</td>\n",
       "      <td>T.N. Godavarman Thirumulpad vs Union Of India ...</td>\n",
       "      <td>T.N. Godavarman Thirumulpad</td>\n",
       "      <td>Union Of India &amp; Ors</td>\n",
       "      <td>2005-09-26</td>\n",
       "      <td>CASE NO.:\\nWrit Petition (civil)  2...</td>\n",
       "      <td>1</td>\n",
       "    </tr>\n",
       "    <tr>\n",
       "      <th>1</th>\n",
       "      <td>10391123</td>\n",
       "      <td>['the environment protection act 1986', 'the c...</td>\n",
       "      <td>['the environment protection act 1986']</td>\n",
       "      <td>0</td>\n",
       "      <td>[]</td>\n",
       "      <td>[1353758, 182701402]</td>\n",
       "      <td>[]</td>\n",
       "      <td>Kerala High Court</td>\n",
       "      <td>NaN</td>\n",
       "      <td>Kent Construction Pvt. Ltd vs Corporation Of K...</td>\n",
       "      <td>Kent Construction Pvt. Ltd</td>\n",
       "      <td>Corporation Of Kochi</td>\n",
       "      <td>2008-02-14</td>\n",
       "      <td>\\n\\n \\nIN THE HIGH COURT OF KERALA AT ...</td>\n",
       "      <td>1</td>\n",
       "    </tr>\n",
       "    <tr>\n",
       "      <th>2</th>\n",
       "      <td>105012226</td>\n",
       "      <td>['section 9 in the wild life protection act 19...</td>\n",
       "      <td>['wild life protection act 1972', 'wild life p...</td>\n",
       "      <td>0</td>\n",
       "      <td>[]</td>\n",
       "      <td>[672187, 1280344, 912273, 1290514, 702677, 178...</td>\n",
       "      <td>[]</td>\n",
       "      <td>Madhya Pradesh High Court</td>\n",
       "      <td>NaN</td>\n",
       "      <td>Rekh Singh vs The State Of Madhya Pradesh on 2...</td>\n",
       "      <td>Rekh Singh</td>\n",
       "      <td>The State Of Madhya Pradesh</td>\n",
       "      <td>2019-01-02</td>\n",
       "      <td>...</td>\n",
       "      <td>0</td>\n",
       "    </tr>\n",
       "    <tr>\n",
       "      <th>3</th>\n",
       "      <td>1054793</td>\n",
       "      <td>['section 2 in the forest conservation act 198...</td>\n",
       "      <td>['forest conservation act 1980', 'forest conse...</td>\n",
       "      <td>0</td>\n",
       "      <td>[' AIR 1986 AP 225']</td>\n",
       "      <td>[1436914, 1233720, 1870616, 276791, 1642441, 1...</td>\n",
       "      <td>[(' J Reddy', 'Andhra High Court'), (' J Rao',...</td>\n",
       "      <td>Andhra High Court</td>\n",
       "      <td>Reddy</td>\n",
       "      <td>Anupama Minerals vs Union Of India And Ors. on...</td>\n",
       "      <td>Anupama Minerals</td>\n",
       "      <td>Union Of India And Ors.</td>\n",
       "      <td>1984-12-20</td>\n",
       "      <td>NaN</td>\n",
       "      <td>1</td>\n",
       "    </tr>\n",
       "    <tr>\n",
       "      <th>4</th>\n",
       "      <td>107410576</td>\n",
       "      <td>['section 91 in the code of criminal procedure...</td>\n",
       "      <td>['section 91 of the civil procedure code']</td>\n",
       "      <td>0</td>\n",
       "      <td>[]</td>\n",
       "      <td>[704277, 1252855, 1544088, 325366, 487818, 788...</td>\n",
       "      <td>[]</td>\n",
       "      <td>Madhya Pradesh High Court</td>\n",
       "      <td>NaN</td>\n",
       "      <td>Nisar Khan vs The State Of Madhya Pradesh on 5...</td>\n",
       "      <td>Nisar Khan</td>\n",
       "      <td>The State Of Madhya Pradesh</td>\n",
       "      <td>2015-10-05</td>\n",
       "      <td>1\\n\\n      IN ...</td>\n",
       "      <td>1</td>\n",
       "    </tr>\n",
       "  </tbody>\n",
       "</table>\n",
       "</div>"
      ],
      "text/plain": [
       "   kanoon_id                                         acts_cited  \\\n",
       "0    1026316  ['the forest conservation act 1980', 'the indi...   \n",
       "1   10391123  ['the environment protection act 1986', 'the c...   \n",
       "2  105012226  ['section 9 in the wild life protection act 19...   \n",
       "3    1054793  ['section 2 in the forest conservation act 198...   \n",
       "4  107410576  ['section 91 in the code of criminal procedure...   \n",
       "\n",
       "                                        matched_acts  1981_dum  \\\n",
       "0  ['forest conservation act 1980', 'forest conse...         0   \n",
       "1            ['the environment protection act 1986']         0   \n",
       "2  ['wild life protection act 1972', 'wild life p...         0   \n",
       "3  ['forest conservation act 1980', 'forest conse...         0   \n",
       "4         ['section 91 of the civil procedure code']         0   \n",
       "\n",
       "                eq_cite                                   kanoon_ids_cited  \\\n",
       "0                    []  [871328, 867010, 72095, 824830, 1781078, 16655...   \n",
       "1                    []                               [1353758, 182701402]   \n",
       "2                    []  [672187, 1280344, 912273, 1290514, 702677, 178...   \n",
       "3  [' AIR 1986 AP 225']  [1436914, 1233720, 1870616, 276791, 1642441, 1...   \n",
       "4                    []  [704277, 1252855, 1544088, 325366, 487818, 788...   \n",
       "\n",
       "                                         judge_court  \\\n",
       "0  [(' Y.K.Sabharwal', 'Supreme Court of India'),...   \n",
       "1                                                 []   \n",
       "2                                                 []   \n",
       "3  [(' J Reddy', 'Andhra High Court'), (' J Rao',...   \n",
       "4                                                 []   \n",
       "\n",
       "                       court        author  \\\n",
       "0     Supreme Court of India   Y Sabharwal   \n",
       "1          Kerala High Court           NaN   \n",
       "2  Madhya Pradesh High Court           NaN   \n",
       "3          Andhra High Court         Reddy   \n",
       "4  Madhya Pradesh High Court           NaN   \n",
       "\n",
       "                                               title  \\\n",
       "0  T.N. Godavarman Thirumulpad vs Union Of India ...   \n",
       "1  Kent Construction Pvt. Ltd vs Corporation Of K...   \n",
       "2  Rekh Singh vs The State Of Madhya Pradesh on 2...   \n",
       "3  Anupama Minerals vs Union Of India And Ors. on...   \n",
       "4  Nisar Khan vs The State Of Madhya Pradesh on 5...   \n",
       "\n",
       "                    petitioner                   respondent    doc_date  \\\n",
       "0  T.N. Godavarman Thirumulpad         Union Of India & Ors  2005-09-26   \n",
       "1   Kent Construction Pvt. Ltd         Corporation Of Kochi  2008-02-14   \n",
       "2                   Rekh Singh  The State Of Madhya Pradesh  2019-01-02   \n",
       "3             Anupama Minerals      Union Of India And Ors.  1984-12-20   \n",
       "4                   Nisar Khan  The State Of Madhya Pradesh  2015-10-05   \n",
       "\n",
       "                                                 pre  judgment_or_order  \n",
       "0             CASE NO.:\\nWrit Petition (civil)  2...                  1  \n",
       "1          \\n\\n \\nIN THE HIGH COURT OF KERALA AT ...                  1  \n",
       "2                                                ...                  0  \n",
       "3                                                NaN                  1  \n",
       "4                                  1\\n\\n      IN ...                  1  "
      ]
     },
     "execution_count": 39,
     "metadata": {},
     "output_type": "execute_result"
    }
   ],
   "source": [
    "df_non_null_matched.head()"
   ]
  },
  {
   "cell_type": "code",
   "execution_count": 40,
   "metadata": {},
   "outputs": [],
   "source": [
    "df_non_null_matched.to_csv(citations_data+\"possible_air_corpus_with_meta.csv\", index=False)"
   ]
  },
  {
   "cell_type": "code",
   "execution_count": null,
   "metadata": {},
   "outputs": [],
   "source": []
  },
  {
   "cell_type": "code",
   "execution_count": null,
   "metadata": {},
   "outputs": [],
   "source": []
  },
  {
   "cell_type": "code",
   "execution_count": null,
   "metadata": {},
   "outputs": [],
   "source": []
  },
  {
   "cell_type": "code",
   "execution_count": null,
   "metadata": {},
   "outputs": [],
   "source": []
  },
  {
   "cell_type": "code",
   "execution_count": null,
   "metadata": {},
   "outputs": [],
   "source": []
  },
  {
   "cell_type": "code",
   "execution_count": null,
   "metadata": {},
   "outputs": [],
   "source": []
  },
  {
   "cell_type": "code",
   "execution_count": null,
   "metadata": {},
   "outputs": [],
   "source": []
  },
  {
   "cell_type": "code",
   "execution_count": null,
   "metadata": {},
   "outputs": [],
   "source": []
  },
  {
   "cell_type": "code",
   "execution_count": null,
   "metadata": {},
   "outputs": [],
   "source": []
  },
  {
   "cell_type": "code",
   "execution_count": null,
   "metadata": {},
   "outputs": [],
   "source": []
  },
  {
   "cell_type": "code",
   "execution_count": null,
   "metadata": {},
   "outputs": [],
   "source": []
  },
  {
   "cell_type": "code",
   "execution_count": null,
   "metadata": {},
   "outputs": [],
   "source": []
  },
  {
   "cell_type": "code",
   "execution_count": null,
   "metadata": {},
   "outputs": [],
   "source": []
  },
  {
   "cell_type": "code",
   "execution_count": null,
   "metadata": {},
   "outputs": [],
   "source": []
  }
 ],
 "metadata": {
  "kernelspec": {
   "display_name": "Python 3",
   "language": "python",
   "name": "python3"
  },
  "language_info": {
   "codemirror_mode": {
    "name": "ipython",
    "version": 3
   },
   "file_extension": ".py",
   "mimetype": "text/x-python",
   "name": "python",
   "nbconvert_exporter": "python",
   "pygments_lexer": "ipython3",
   "version": "3.8.5"
  }
 },
 "nbformat": 4,
 "nbformat_minor": 4
}
