{
 "cells": [
  {
   "cell_type": "code",
   "execution_count": 1,
   "metadata": {},
   "outputs": [],
   "source": [
    "import pandas as pd\n",
    "pd.set_option('display.max_columns', None)\n",
    "import numpy as np\n",
    "from nltk import FreqDist\n",
    "import seaborn as sns\n",
    "sns.set(rc={'figure.figsize':(11.7,8.27)})\n",
    "import matplotlib.pyplot as plt\n",
    "sns.set_palette(\"pastel\")\n",
    "import ast\n",
    "import networkx as nx\n",
    "from bs4 import BeautifulSoup\n",
    "import regex as re\n",
    "import tqdm\n",
    "import glob\n",
    "import os\n",
    "from fuzzywuzzy import fuzz\n",
    "\n",
    "import multiprocessing\n",
    "from multiprocessing import Process, Manager\n",
    "\n",
    "import numexpr as ne"
   ]
  },
  {
   "cell_type": "code",
   "execution_count": 2,
   "metadata": {},
   "outputs": [],
   "source": [
    "citations_data = r\"C:\\Users\\wb570559\\Dropbox\\AIR POLLUTION PROJECT\\ANALYSIS\\DATA\\processed_data\\citations_data_full\\\\\""
   ]
  },
  {
   "cell_type": "code",
   "execution_count": 3,
   "metadata": {},
   "outputs": [],
   "source": [
    "df_main = pd.read_csv(citations_data+r\"citations_data_full_kanoon.csv\").drop([\"Unnamed: 0\"], axis=1)"
   ]
  },
  {
   "cell_type": "code",
   "execution_count": 4,
   "metadata": {
    "scrolled": true
   },
   "outputs": [
    {
     "data": {
      "text/html": [
       "<div>\n",
       "<style scoped>\n",
       "    .dataframe tbody tr th:only-of-type {\n",
       "        vertical-align: middle;\n",
       "    }\n",
       "\n",
       "    .dataframe tbody tr th {\n",
       "        vertical-align: top;\n",
       "    }\n",
       "\n",
       "    .dataframe thead th {\n",
       "        text-align: right;\n",
       "    }\n",
       "</style>\n",
       "<table border=\"1\" class=\"dataframe\">\n",
       "  <thead>\n",
       "    <tr style=\"text-align: right;\">\n",
       "      <th></th>\n",
       "      <th>kanoon_id</th>\n",
       "      <th>acts_cited</th>\n",
       "    </tr>\n",
       "  </thead>\n",
       "  <tbody>\n",
       "    <tr>\n",
       "      <th>0</th>\n",
       "      <td>100000331</td>\n",
       "      <td>['Section 439 in The Code Of Criminal Procedur...</td>\n",
       "    </tr>\n",
       "    <tr>\n",
       "      <th>1</th>\n",
       "      <td>100013088</td>\n",
       "      <td>['Article 14 in The Constitution Of India   19...</td>\n",
       "    </tr>\n",
       "    <tr>\n",
       "      <th>2</th>\n",
       "      <td>100013537</td>\n",
       "      <td>['Section 380 in The Indian Penal Code', 'Sect...</td>\n",
       "    </tr>\n",
       "    <tr>\n",
       "      <th>3</th>\n",
       "      <td>100023968</td>\n",
       "      <td>[]</td>\n",
       "    </tr>\n",
       "    <tr>\n",
       "      <th>4</th>\n",
       "      <td>1000241</td>\n",
       "      <td>[]</td>\n",
       "    </tr>\n",
       "  </tbody>\n",
       "</table>\n",
       "</div>"
      ],
      "text/plain": [
       "   kanoon_id                                         acts_cited\n",
       "0  100000331  ['Section 439 in The Code Of Criminal Procedur...\n",
       "1  100013088  ['Article 14 in The Constitution Of India   19...\n",
       "2  100013537  ['Section 380 in The Indian Penal Code', 'Sect...\n",
       "3  100023968                                                 []\n",
       "4    1000241                                                 []"
      ]
     },
     "execution_count": 4,
     "metadata": {},
     "output_type": "execute_result"
    }
   ],
   "source": [
    "df_main.head()"
   ]
  },
  {
   "cell_type": "code",
   "execution_count": 5,
   "metadata": {},
   "outputs": [
    {
     "data": {
      "text/plain": [
       "7235533"
      ]
     },
     "execution_count": 5,
     "metadata": {},
     "output_type": "execute_result"
    }
   ],
   "source": [
    "len(df_main)"
   ]
  },
  {
   "cell_type": "code",
   "execution_count": 6,
   "metadata": {},
   "outputs": [
    {
     "data": {
      "text/plain": [
       "2984409"
      ]
     },
     "execution_count": 6,
     "metadata": {},
     "output_type": "execute_result"
    }
   ],
   "source": [
    "len(df_main[df_main[\"acts_cited\"]!=\"[]\"])"
   ]
  },
  {
   "cell_type": "code",
   "execution_count": 7,
   "metadata": {},
   "outputs": [],
   "source": [
    "df_non_null = df_main[df_main[\"acts_cited\"]!=\"[]\"]"
   ]
  },
  {
   "cell_type": "code",
   "execution_count": 8,
   "metadata": {},
   "outputs": [],
   "source": [
    "preethikas_list = [\"Water (Prevention and Control of Pollution) Act 1974 (Water Act)\",\n",
    "                  \"Air (Prevention and Control of Pollution) Act 1981 (Air Act)\",\n",
    "                  \"Environment (Protection) Act 1986 (EP Act)\",\n",
    "                  \"E-Waste (Management) Rules 2016\",\n",
    "                  \"Batteries (Management & Handling) Rules 2001\",\n",
    "                  \"Battery Waste Management Rules 2020\",\n",
    "                  \"Bio-Medical Waste Management Rules 2016\",\n",
    "                  \"Plastic Waste Management Rules 2016\",\n",
    "                  \"Solid Waste Management Rules 2016\",\n",
    "                  \"Construction and Demolition Waste Management Rules 2016\",\n",
    "                  \"Hazardous and Other Waste (Management and Transboundary Movement) Rules 2016\",\n",
    "                  \"Manufacture, Storage and Import of Hazardous Chemicals Rules 1989 (MSIHC Rules)\",\n",
    "                  \"Coastal Regulation Zone Notification 2019 (and related 2021 procedure for violation of the CRZ Notification)\",\n",
    "                  \"Environment Impact Assessment Notification 2006\",\n",
    "                  \"Wild Life (Protection) Act 1972\",\n",
    "                  \"Forest (Conservation) Act 1980\",\n",
    "                  \"Public Liability Insurance Act 1991\",\n",
    "                  \"Biological Diversity Act 2002\",\n",
    "                  \"National Green Tribunal Act 2010\",\n",
    "                  \"Section 91 of the Civil Procedure Code\",\n",
    "                    \"The Water (Prevention and Control of Pollution) Cess Act, 1977\",\n",
    "                    \"The Forest (Conservation) Act, 1980\",\n",
    "                    \"The Air (Prevention and Control of Pollution) Act, 1981\",\n",
    "                    \"The Environment (Protection) Act, 1986\",\n",
    "                    \"The Public Liability Insurance Act, 1991\",\n",
    "                    \"The Biological Diversity Act, 2002\"\n",
    "                    ]"
   ]
  },
  {
   "cell_type": "code",
   "execution_count": 9,
   "metadata": {},
   "outputs": [],
   "source": [
    "more_acts_from_text = ['the air  prevention and control of pollution  act  1981',\n",
    " 'article 226 in the constitution of india   1949',\n",
    " 'the environment  protection  act  1986',\n",
    " 'the water  prevention and control of pollution  act  1974',\n",
    " 'section 21 in the air  prevention and control of pollution  act  1981',\n",
    " 'section 25 in the water  prevention and control of pollution  act  1974',\n",
    " 'article 21 in the constitution of india   1949',\n",
    " 'section 31 in the air  prevention and control of pollution  act  1981',\n",
    " 'section 31a in the air  prevention and control of pollution  act  1981',\n",
    " 'section 44 in the water  prevention and control of pollution  act  1974',\n",
    " 'section 37 in the air  prevention and control of pollution  act  1981',\n",
    " 'section 33a in the water  prevention and control of pollution  act  1974',\n",
    " 'section 15 in the air  prevention and control of pollution  act  1981',\n",
    " 'section 26 in the water  prevention and control of pollution  act  1974',\n",
    " 'section 14 in the air  prevention and control of pollution  act  1981',\n",
    " 'section 29 in the air  prevention and control of pollution  act  1981',\n",
    " 'section 3 in the air  prevention and control of pollution  act  1981',\n",
    " 'section 33 in the water  prevention and control of pollution  act  1974',\n",
    " 'the national green tribunal act  2010',\n",
    " 'section 25 in the air  prevention and control of pollution  act  1981',\n",
    " 'section 5 in the environment  protection  act  1986',\n",
    " 'section 47 in the water  prevention and control of pollution  act  1974',\n",
    " 'section 43 in the water  prevention and control of pollution  act  1974',\n",
    " 'section 28 in the water  prevention and control of pollution  act  1974',\n",
    " 'section 3 in the environment  protection  act  1986',\n",
    " 'section 6 in the air  prevention and control of pollution  act  1981',\n",
    " 'article 32 in the constitution of india   1949',\n",
    " 'section 15 in the environment  protection  act  1986',\n",
    " 'm c  mehta vs union of india   ors on 18 march  2004',\n",
    " 'section 24 in the water  prevention and control of pollution  act  1974']"
   ]
  },
  {
   "cell_type": "code",
   "execution_count": 10,
   "metadata": {},
   "outputs": [],
   "source": [
    "final_list = preethikas_list+more_acts_from_text"
   ]
  },
  {
   "cell_type": "code",
   "execution_count": 11,
   "metadata": {},
   "outputs": [],
   "source": [
    "def Punctuation(string):\n",
    "\n",
    "    # punctuation marks\n",
    "    punctuations = '''!()-[]{};:'\"\\,<>./?@#$%^&*_~'''\n",
    "\n",
    "    # traverse the given string and if any punctuation\n",
    "    # marks occur replace it with null\n",
    "    string = string.replace(\"\\n\", \"\")\n",
    "    for x in string.lower():\n",
    "        if x in punctuations:\n",
    "            string = string.replace(x, \" \")\n",
    "            \n",
    "    string = string.strip()\n",
    "    string = string.replace(\"  \", \" \")\n",
    "    \n",
    "    return string"
   ]
  },
  {
   "cell_type": "code",
   "execution_count": 12,
   "metadata": {},
   "outputs": [],
   "source": [
    "final_list = [Punctuation(ele.lower()) for ele in final_list]"
   ]
  },
  {
   "cell_type": "code",
   "execution_count": 13,
   "metadata": {},
   "outputs": [
    {
     "data": {
      "text/plain": [
       "['water prevention and control of pollution act 1974 water act',\n",
       " 'air prevention and control of pollution act 1981 air act',\n",
       " 'environment protection act 1986 ep act',\n",
       " 'e waste management rules 2016',\n",
       " 'batteries management  handling rules 2001',\n",
       " 'battery waste management rules 2020',\n",
       " 'bio medical waste management rules 2016',\n",
       " 'plastic waste management rules 2016',\n",
       " 'solid waste management rules 2016',\n",
       " 'construction and demolition waste management rules 2016',\n",
       " 'hazardous and other waste management and transboundary movement rules 2016',\n",
       " 'manufacture storage and import of hazardous chemicals rules 1989 msihc rules',\n",
       " 'coastal regulation zone notification 2019 and related 2021 procedure for violation of the crz notification',\n",
       " 'environment impact assessment notification 2006',\n",
       " 'wild life protection act 1972',\n",
       " 'forest conservation act 1980',\n",
       " 'public liability insurance act 1991',\n",
       " 'biological diversity act 2002',\n",
       " 'national green tribunal act 2010',\n",
       " 'section 91 of the civil procedure code',\n",
       " 'the water prevention and control of pollution cess act 1977',\n",
       " 'the forest conservation act 1980',\n",
       " 'the air prevention and control of pollution act 1981',\n",
       " 'the environment protection act 1986',\n",
       " 'the public liability insurance act 1991',\n",
       " 'the biological diversity act 2002',\n",
       " 'the air prevention and control of pollution act 1981',\n",
       " 'article 226 in the constitution of india  1949',\n",
       " 'the environment protection act 1986',\n",
       " 'the water prevention and control of pollution act 1974',\n",
       " 'section 21 in the air prevention and control of pollution act 1981',\n",
       " 'section 25 in the water prevention and control of pollution act 1974',\n",
       " 'article 21 in the constitution of india  1949',\n",
       " 'section 31 in the air prevention and control of pollution act 1981',\n",
       " 'section 31a in the air prevention and control of pollution act 1981',\n",
       " 'section 44 in the water prevention and control of pollution act 1974',\n",
       " 'section 37 in the air prevention and control of pollution act 1981',\n",
       " 'section 33a in the water prevention and control of pollution act 1974',\n",
       " 'section 15 in the air prevention and control of pollution act 1981',\n",
       " 'section 26 in the water prevention and control of pollution act 1974',\n",
       " 'section 14 in the air prevention and control of pollution act 1981',\n",
       " 'section 29 in the air prevention and control of pollution act 1981',\n",
       " 'section 3 in the air prevention and control of pollution act 1981',\n",
       " 'section 33 in the water prevention and control of pollution act 1974',\n",
       " 'the national green tribunal act 2010',\n",
       " 'section 25 in the air prevention and control of pollution act 1981',\n",
       " 'section 5 in the environment protection act 1986',\n",
       " 'section 47 in the water prevention and control of pollution act 1974',\n",
       " 'section 43 in the water prevention and control of pollution act 1974',\n",
       " 'section 28 in the water prevention and control of pollution act 1974',\n",
       " 'section 3 in the environment protection act 1986',\n",
       " 'section 6 in the air prevention and control of pollution act 1981',\n",
       " 'article 32 in the constitution of india  1949',\n",
       " 'section 15 in the environment protection act 1986',\n",
       " 'm c mehta vs union of india  ors on 18 march 2004',\n",
       " 'section 24 in the water prevention and control of pollution act 1974']"
      ]
     },
     "execution_count": 13,
     "metadata": {},
     "output_type": "execute_result"
    }
   ],
   "source": [
    "final_list"
   ]
  },
  {
   "cell_type": "code",
   "execution_count": 14,
   "metadata": {},
   "outputs": [],
   "source": [
    "final_list = ['water prevention and control of pollution act 1974 water act',\n",
    " 'air prevention and control of pollution act 1981 air act',\n",
    " 'environment protection act 1986 ep act',\n",
    " 'e waste management rules 2016',\n",
    " 'batteries management  handling rules 2001',\n",
    " 'battery waste management rules 2020',\n",
    " 'bio medical waste management rules 2016',\n",
    " 'plastic waste management rules 2016',\n",
    " 'solid waste management rules 2016',\n",
    " 'construction and demolition waste management rules 2016',\n",
    " 'hazardous and other waste management and transboundary movement rules 2016',\n",
    " 'manufacture storage and import of hazardous chemicals rules 1989 msihc rules',\n",
    " 'coastal regulation zone notification 2019 and related 2021 procedure for violation of the crz notification',\n",
    " 'environment impact assessment notification 2006',\n",
    " 'wild life protection act 1972',\n",
    " 'forest conservation act 1980',\n",
    "\n",
    " 'biological diversity act 2002',\n",
    " 'national green tribunal act 2010',\n",
    " 'section 91 of the civil procedure code',\n",
    " 'the water prevention and control of pollution cess act 1977',\n",
    " 'the forest conservation act 1980',\n",
    " 'the air prevention and control of pollution act 1981',\n",
    " 'the environment protection act 1986',\n",
    " 'the public liability insurance act 1991',\n",
    " 'the biological diversity act 2002',\n",
    " 'the air prevention and control of pollution act 1981',\n",
    "\n",
    " 'the environment protection act 1986',\n",
    " 'the water prevention and control of pollution act 1974',\n",
    " 'section 21 in the air prevention and control of pollution act 1981',\n",
    " 'section 25 in the water prevention and control of pollution act 1974',\n",
    "\n",
    " 'section 31 in the air prevention and control of pollution act 1981',\n",
    " 'section 31a in the air prevention and control of pollution act 1981',\n",
    " 'section 44 in the water prevention and control of pollution act 1974',\n",
    " 'section 37 in the air prevention and control of pollution act 1981',\n",
    " 'section 33a in the water prevention and control of pollution act 1974',\n",
    " 'section 15 in the air prevention and control of pollution act 1981',\n",
    " 'section 26 in the water prevention and control of pollution act 1974',\n",
    " 'section 14 in the air prevention and control of pollution act 1981',\n",
    " 'section 29 in the air prevention and control of pollution act 1981',\n",
    " 'section 3 in the air prevention and control of pollution act 1981',\n",
    " 'section 33 in the water prevention and control of pollution act 1974',\n",
    " 'the national green tribunal act 2010',\n",
    " 'section 25 in the air prevention and control of pollution act 1981',\n",
    " 'section 5 in the environment protection act 1986',\n",
    " 'section 47 in the water prevention and control of pollution act 1974',\n",
    " 'section 43 in the water prevention and control of pollution act 1974',\n",
    " 'section 28 in the water prevention and control of pollution act 1974',\n",
    " 'section 3 in the environment protection act 1986',\n",
    " 'section 6 in the air prevention and control of pollution act 1981',\n",
    "\n",
    " 'section 15 in the environment protection act 1986',\n",
    " 'm c mehta vs union of india  ors on 18 march 2004',\n",
    " 'section 24 in the water prevention and control of pollution act 1974']"
   ]
  },
  {
   "cell_type": "code",
   "execution_count": 15,
   "metadata": {},
   "outputs": [
    {
     "name": "stderr",
     "output_type": "stream",
     "text": [
      "<ipython-input-15-81dacb2a5518>:1: SettingWithCopyWarning: \n",
      "A value is trying to be set on a copy of a slice from a DataFrame.\n",
      "Try using .loc[row_indexer,col_indexer] = value instead\n",
      "\n",
      "See the caveats in the documentation: https://pandas.pydata.org/pandas-docs/stable/user_guide/indexing.html#returning-a-view-versus-a-copy\n",
      "  df_non_null[\"acts_cited\"] = df_non_null[\"acts_cited\"].apply(lambda x: ast.literal_eval(x))\n"
     ]
    }
   ],
   "source": [
    "df_non_null[\"acts_cited\"] = df_non_null[\"acts_cited\"].apply(lambda x: ast.literal_eval(x))"
   ]
  },
  {
   "cell_type": "code",
   "execution_count": 16,
   "metadata": {},
   "outputs": [],
   "source": [
    "from tqdm.notebook import tqdm\n",
    "tqdm.pandas()"
   ]
  },
  {
   "cell_type": "code",
   "execution_count": 17,
   "metadata": {},
   "outputs": [
    {
     "data": {
      "application/vnd.jupyter.widget-view+json": {
       "model_id": "d7164c5d9b5c4e1abc180f37d1000ac4",
       "version_major": 2,
       "version_minor": 0
      },
      "text/plain": [
       "  0%|          | 0/2984409 [00:00<?, ?it/s]"
      ]
     },
     "metadata": {},
     "output_type": "display_data"
    },
    {
     "name": "stderr",
     "output_type": "stream",
     "text": [
      "<ipython-input-17-83481ea2eb3f>:1: SettingWithCopyWarning: \n",
      "A value is trying to be set on a copy of a slice from a DataFrame.\n",
      "Try using .loc[row_indexer,col_indexer] = value instead\n",
      "\n",
      "See the caveats in the documentation: https://pandas.pydata.org/pandas-docs/stable/user_guide/indexing.html#returning-a-view-versus-a-copy\n",
      "  df_non_null[\"acts_cited\"] = df_non_null[\"acts_cited\"].progress_apply(lambda x: [Punctuation(ele.lower()) for ele in x])\n"
     ]
    }
   ],
   "source": [
    "df_non_null[\"acts_cited\"] = df_non_null[\"acts_cited\"].progress_apply(lambda x: [Punctuation(ele.lower()) for ele in x])"
   ]
  },
  {
   "cell_type": "code",
   "execution_count": 18,
   "metadata": {},
   "outputs": [
    {
     "data": {
      "text/plain": [
       "0          [section 439 in the code of criminal procedure...\n",
       "1          [article 14 in the constitution of india  1949...\n",
       "2          [section 380 in the indian penal code, section...\n",
       "7          [section 148 in the code of criminal procedure...\n",
       "9          [section 420 in the indian penal code, section...\n",
       "                                 ...                        \n",
       "7235522    [shamus ud din khan vs state of j k  ors on 27...\n",
       "7235525    [section 148 in the indian penal code, section...\n",
       "7235526    [canara bank asset recovery   vs coromandel in...\n",
       "7235529                        [the motor vehicles act 1988]\n",
       "7235530    [section 379 in the indian penal code, section...\n",
       "Name: acts_cited, Length: 2984409, dtype: object"
      ]
     },
     "execution_count": 18,
     "metadata": {},
     "output_type": "execute_result"
    }
   ],
   "source": [
    "df_non_null[\"acts_cited\"]"
   ]
  },
  {
   "cell_type": "code",
   "execution_count": 19,
   "metadata": {},
   "outputs": [],
   "source": [
    "def acts_matcher(list_green_acts, list_acts):\n",
    "    \n",
    "    #cache = 0\n",
    "    list_matched_acts = []\n",
    "    \n",
    "    for act in list_acts:\n",
    "        \n",
    "        cache = 0\n",
    "        flag = 0\n",
    "        \n",
    "        for green_act in list_green_acts:\n",
    "            \n",
    "            score = fuzz.token_set_ratio(act, green_act)\n",
    "            \n",
    "            if (score > 90 and score > cache):\n",
    "                flag = 1\n",
    "                cache = score\n",
    "                matched_act = green_act\n",
    "                \n",
    "        if flag==1:\n",
    "            \n",
    "            list_matched_acts.append(matched_act)\n",
    "            \n",
    "        else:\n",
    "            continue\n",
    "            \n",
    "    return list_matched_acts\n",
    "                "
   ]
  },
  {
   "cell_type": "code",
   "execution_count": 20,
   "metadata": {},
   "outputs": [
    {
     "data": {
      "application/vnd.jupyter.widget-view+json": {
       "model_id": "54bb0ccc0ba64aada0754e3a6e62ae0b",
       "version_major": 2,
       "version_minor": 0
      },
      "text/plain": [
       "  0%|          | 0/2984409 [00:00<?, ?it/s]"
      ]
     },
     "metadata": {},
     "output_type": "display_data"
    },
    {
     "name": "stderr",
     "output_type": "stream",
     "text": [
      "<ipython-input-20-32c5ad2857e4>:1: SettingWithCopyWarning: \n",
      "A value is trying to be set on a copy of a slice from a DataFrame.\n",
      "Try using .loc[row_indexer,col_indexer] = value instead\n",
      "\n",
      "See the caveats in the documentation: https://pandas.pydata.org/pandas-docs/stable/user_guide/indexing.html#returning-a-view-versus-a-copy\n",
      "  df_non_null[\"matched_acts\"] = df_non_null[\"acts_cited\"].progress_apply(lambda x: acts_matcher(final_list, x))\n"
     ]
    }
   ],
   "source": [
    "df_non_null[\"matched_acts\"] = df_non_null[\"acts_cited\"].progress_apply(lambda x: acts_matcher(final_list, x))"
   ]
  },
  {
   "cell_type": "code",
   "execution_count": 21,
   "metadata": {},
   "outputs": [
    {
     "data": {
      "text/plain": [
       "0    []\n",
       "1    []\n",
       "2    []\n",
       "7    []\n",
       "9    []\n",
       "Name: matched_acts, dtype: object"
      ]
     },
     "execution_count": 21,
     "metadata": {},
     "output_type": "execute_result"
    }
   ],
   "source": [
    "df_non_null[\"matched_acts\"].head()"
   ]
  },
  {
   "cell_type": "code",
   "execution_count": 22,
   "metadata": {},
   "outputs": [],
   "source": [
    "df_non_null.to_csv(citations_data+\"matched_acts.csv\")"
   ]
  },
  {
   "cell_type": "code",
   "execution_count": 25,
   "metadata": {},
   "outputs": [
    {
     "name": "stderr",
     "output_type": "stream",
     "text": [
      "<ipython-input-25-e54bd102026d>:1: SettingWithCopyWarning: \n",
      "A value is trying to be set on a copy of a slice from a DataFrame.\n",
      "Try using .loc[row_indexer,col_indexer] = value instead\n",
      "\n",
      "See the caveats in the documentation: https://pandas.pydata.org/pandas-docs/stable/user_guide/indexing.html#returning-a-view-versus-a-copy\n",
      "  df_non_null[\"matched_acts\"] = df_non_null[\"matched_acts\"].apply(lambda x : str(x))\n"
     ]
    }
   ],
   "source": [
    "df_non_null[\"matched_acts\"] = df_non_null[\"matched_acts\"].apply(lambda x : str(x))"
   ]
  },
  {
   "cell_type": "code",
   "execution_count": 26,
   "metadata": {},
   "outputs": [],
   "source": [
    "df_non_null_matched = df_non_null[df_non_null[\"matched_acts\"]!=\"[]\"]"
   ]
  },
  {
   "cell_type": "code",
   "execution_count": 28,
   "metadata": {},
   "outputs": [
    {
     "data": {
      "text/plain": [
       "9251"
      ]
     },
     "execution_count": 28,
     "metadata": {},
     "output_type": "execute_result"
    }
   ],
   "source": [
    "len(df_non_null_matched)"
   ]
  },
  {
   "cell_type": "code",
   "execution_count": 29,
   "metadata": {},
   "outputs": [
    {
     "name": "stderr",
     "output_type": "stream",
     "text": [
      "<ipython-input-29-03db3d16f401>:1: SettingWithCopyWarning: \n",
      "A value is trying to be set on a copy of a slice from a DataFrame.\n",
      "Try using .loc[row_indexer,col_indexer] = value instead\n",
      "\n",
      "See the caveats in the documentation: https://pandas.pydata.org/pandas-docs/stable/user_guide/indexing.html#returning-a-view-versus-a-copy\n",
      "  df_non_null_matched[\"1981_dum\"] = df_non_null_matched[\"matched_acts\"].apply(lambda x: 1 if \"1981\" in x else 0)\n"
     ]
    }
   ],
   "source": [
    "df_non_null_matched[\"1981_dum\"] = df_non_null_matched[\"matched_acts\"].apply(lambda x: 1 if \"1981\" in x else 0)"
   ]
  },
  {
   "cell_type": "code",
   "execution_count": 30,
   "metadata": {},
   "outputs": [
    {
     "data": {
      "text/plain": [
       "count    9251.000000\n",
       "mean        0.155551\n",
       "std         0.362449\n",
       "min         0.000000\n",
       "25%         0.000000\n",
       "50%         0.000000\n",
       "75%         0.000000\n",
       "max         1.000000\n",
       "Name: 1981_dum, dtype: float64"
      ]
     },
     "execution_count": 30,
     "metadata": {},
     "output_type": "execute_result"
    }
   ],
   "source": [
    "df_non_null_matched[\"1981_dum\"].describe()"
   ]
  },
  {
   "cell_type": "code",
   "execution_count": 31,
   "metadata": {},
   "outputs": [],
   "source": [
    "df_non_null_matched.to_csv(citations_data+\"possible_air_corpus.csv\")"
   ]
  },
  {
   "cell_type": "code",
   "execution_count": null,
   "metadata": {},
   "outputs": [],
   "source": []
  },
  {
   "cell_type": "code",
   "execution_count": null,
   "metadata": {},
   "outputs": [],
   "source": []
  },
  {
   "cell_type": "code",
   "execution_count": null,
   "metadata": {},
   "outputs": [],
   "source": []
  }
 ],
 "metadata": {
  "kernelspec": {
   "display_name": "Python 3",
   "language": "python",
   "name": "python3"
  },
  "language_info": {
   "codemirror_mode": {
    "name": "ipython",
    "version": 3
   },
   "file_extension": ".py",
   "mimetype": "text/x-python",
   "name": "python",
   "nbconvert_exporter": "python",
   "pygments_lexer": "ipython3",
   "version": "3.8.5"
  }
 },
 "nbformat": 4,
 "nbformat_minor": 4
}
