{
 "cells": [
  {
   "cell_type": "code",
   "execution_count": 1,
   "metadata": {},
   "outputs": [
    {
     "name": "stderr",
     "output_type": "stream",
     "text": [
      "[nltk_data] Downloading package maxent_ne_chunker to\n",
      "[nltk_data]     C:\\Users\\wb570559\\AppData\\Roaming\\nltk_data...\n",
      "[nltk_data]   Package maxent_ne_chunker is already up-to-date!\n",
      "[nltk_data] Downloading package words to\n",
      "[nltk_data]     C:\\Users\\wb570559\\AppData\\Roaming\\nltk_data...\n",
      "[nltk_data]   Package words is already up-to-date!\n",
      "[nltk_data] Downloading package treebank to\n",
      "[nltk_data]     C:\\Users\\wb570559\\AppData\\Roaming\\nltk_data...\n",
      "[nltk_data]   Package treebank is already up-to-date!\n",
      "[nltk_data] Downloading package maxent_treebank_pos_tagger to\n",
      "[nltk_data]     C:\\Users\\wb570559\\AppData\\Roaming\\nltk_data...\n",
      "[nltk_data]   Package maxent_treebank_pos_tagger is already up-to-\n",
      "[nltk_data]       date!\n",
      "[nltk_data] Downloading package punkt to\n",
      "[nltk_data]     C:\\Users\\wb570559\\AppData\\Roaming\\nltk_data...\n",
      "[nltk_data]   Package punkt is already up-to-date!\n",
      "[nltk_data] Downloading package averaged_perceptron_tagger to\n",
      "[nltk_data]     C:\\Users\\wb570559\\AppData\\Roaming\\nltk_data...\n",
      "[nltk_data]   Package averaged_perceptron_tagger is already up-to-\n",
      "[nltk_data]       date!\n"
     ]
    },
    {
     "data": {
      "text/plain": [
       "True"
      ]
     },
     "execution_count": 1,
     "metadata": {},
     "output_type": "execute_result"
    }
   ],
   "source": [
    "import pandas as pd\n",
    "import numpy as np\n",
    "\n",
    "import nltk\n",
    "\n",
    " \n",
    "# essential entity models downloads\n",
    "nltk.downloader.download('maxent_ne_chunker')\n",
    "nltk.downloader.download('words')\n",
    "nltk.downloader.download('treebank')\n",
    "nltk.downloader.download('maxent_treebank_pos_tagger')\n",
    "nltk.downloader.download('punkt')\n",
    "nltk.download('averaged_perceptron_tagger')"
   ]
  },
  {
   "cell_type": "code",
   "execution_count": 2,
   "metadata": {},
   "outputs": [],
   "source": [
    "citations_data = r\"C:\\Users\\wb570559\\Dropbox\\AIR POLLUTION PROJECT\\ANALYSIS\\DATA\\processed_data\\citations_data_full\\\\\""
   ]
  },
  {
   "cell_type": "code",
   "execution_count": 3,
   "metadata": {},
   "outputs": [],
   "source": [
    "# data of matched acts/additional corpus - \n",
    "\n",
    "df = pd.read_csv(citations_data+\"possible_air_corpus_with_meta.csv\")"
   ]
  },
  {
   "cell_type": "code",
   "execution_count": 4,
   "metadata": {},
   "outputs": [
    {
     "data": {
      "text/html": [
       "<div>\n",
       "<style scoped>\n",
       "    .dataframe tbody tr th:only-of-type {\n",
       "        vertical-align: middle;\n",
       "    }\n",
       "\n",
       "    .dataframe tbody tr th {\n",
       "        vertical-align: top;\n",
       "    }\n",
       "\n",
       "    .dataframe thead th {\n",
       "        text-align: right;\n",
       "    }\n",
       "</style>\n",
       "<table border=\"1\" class=\"dataframe\">\n",
       "  <thead>\n",
       "    <tr style=\"text-align: right;\">\n",
       "      <th></th>\n",
       "      <th>kanoon_id</th>\n",
       "      <th>acts_cited</th>\n",
       "      <th>matched_acts</th>\n",
       "      <th>1981_dum</th>\n",
       "      <th>eq_cite</th>\n",
       "      <th>kanoon_ids_cited</th>\n",
       "      <th>judge_court</th>\n",
       "      <th>court</th>\n",
       "      <th>author</th>\n",
       "      <th>title</th>\n",
       "      <th>petitioner</th>\n",
       "      <th>respondent</th>\n",
       "      <th>doc_date</th>\n",
       "      <th>pre</th>\n",
       "      <th>judgment_or_order</th>\n",
       "    </tr>\n",
       "  </thead>\n",
       "  <tbody>\n",
       "    <tr>\n",
       "      <th>0</th>\n",
       "      <td>1026316</td>\n",
       "      <td>['the forest conservation act 1980', 'the indi...</td>\n",
       "      <td>['forest conservation act 1980', 'forest conse...</td>\n",
       "      <td>0</td>\n",
       "      <td>[]</td>\n",
       "      <td>[871328, 867010, 72095, 824830, 1781078, 16655...</td>\n",
       "      <td>[(' Y.K.Sabharwal', 'Supreme Court of India'),...</td>\n",
       "      <td>Supreme Court of India</td>\n",
       "      <td>Y Sabharwal</td>\n",
       "      <td>T.N. Godavarman Thirumulpad vs Union Of India ...</td>\n",
       "      <td>T.N. Godavarman Thirumulpad</td>\n",
       "      <td>Union Of India &amp; Ors</td>\n",
       "      <td>2005-09-26</td>\n",
       "      <td>CASE NO.:\\nWrit Petition (civil)  2...</td>\n",
       "      <td>1</td>\n",
       "    </tr>\n",
       "    <tr>\n",
       "      <th>1</th>\n",
       "      <td>10391123</td>\n",
       "      <td>['the environment protection act 1986', 'the c...</td>\n",
       "      <td>['the environment protection act 1986']</td>\n",
       "      <td>0</td>\n",
       "      <td>[]</td>\n",
       "      <td>[1353758, 182701402]</td>\n",
       "      <td>[]</td>\n",
       "      <td>Kerala High Court</td>\n",
       "      <td>NaN</td>\n",
       "      <td>Kent Construction Pvt. Ltd vs Corporation Of K...</td>\n",
       "      <td>Kent Construction Pvt. Ltd</td>\n",
       "      <td>Corporation Of Kochi</td>\n",
       "      <td>2008-02-14</td>\n",
       "      <td>\\n\\n \\nIN THE HIGH COURT OF KERALA AT ...</td>\n",
       "      <td>1</td>\n",
       "    </tr>\n",
       "    <tr>\n",
       "      <th>2</th>\n",
       "      <td>105012226</td>\n",
       "      <td>['section 9 in the wild life protection act 19...</td>\n",
       "      <td>['wild life protection act 1972', 'wild life p...</td>\n",
       "      <td>0</td>\n",
       "      <td>[]</td>\n",
       "      <td>[672187, 1280344, 912273, 1290514, 702677, 178...</td>\n",
       "      <td>[]</td>\n",
       "      <td>Madhya Pradesh High Court</td>\n",
       "      <td>NaN</td>\n",
       "      <td>Rekh Singh vs The State Of Madhya Pradesh on 2...</td>\n",
       "      <td>Rekh Singh</td>\n",
       "      <td>The State Of Madhya Pradesh</td>\n",
       "      <td>2019-01-02</td>\n",
       "      <td>...</td>\n",
       "      <td>0</td>\n",
       "    </tr>\n",
       "    <tr>\n",
       "      <th>3</th>\n",
       "      <td>1054793</td>\n",
       "      <td>['section 2 in the forest conservation act 198...</td>\n",
       "      <td>['forest conservation act 1980', 'forest conse...</td>\n",
       "      <td>0</td>\n",
       "      <td>[' AIR 1986 AP 225']</td>\n",
       "      <td>[1436914, 1233720, 1870616, 276791, 1642441, 1...</td>\n",
       "      <td>[(' J Reddy', 'Andhra High Court'), (' J Rao',...</td>\n",
       "      <td>Andhra High Court</td>\n",
       "      <td>Reddy</td>\n",
       "      <td>Anupama Minerals vs Union Of India And Ors. on...</td>\n",
       "      <td>Anupama Minerals</td>\n",
       "      <td>Union Of India And Ors.</td>\n",
       "      <td>1984-12-20</td>\n",
       "      <td>NaN</td>\n",
       "      <td>1</td>\n",
       "    </tr>\n",
       "    <tr>\n",
       "      <th>4</th>\n",
       "      <td>107410576</td>\n",
       "      <td>['section 91 in the code of criminal procedure...</td>\n",
       "      <td>['section 91 of the civil procedure code']</td>\n",
       "      <td>0</td>\n",
       "      <td>[]</td>\n",
       "      <td>[704277, 1252855, 1544088, 325366, 487818, 788...</td>\n",
       "      <td>[]</td>\n",
       "      <td>Madhya Pradesh High Court</td>\n",
       "      <td>NaN</td>\n",
       "      <td>Nisar Khan vs The State Of Madhya Pradesh on 5...</td>\n",
       "      <td>Nisar Khan</td>\n",
       "      <td>The State Of Madhya Pradesh</td>\n",
       "      <td>2015-10-05</td>\n",
       "      <td>1\\n\\n      IN ...</td>\n",
       "      <td>1</td>\n",
       "    </tr>\n",
       "  </tbody>\n",
       "</table>\n",
       "</div>"
      ],
      "text/plain": [
       "   kanoon_id                                         acts_cited  \\\n",
       "0    1026316  ['the forest conservation act 1980', 'the indi...   \n",
       "1   10391123  ['the environment protection act 1986', 'the c...   \n",
       "2  105012226  ['section 9 in the wild life protection act 19...   \n",
       "3    1054793  ['section 2 in the forest conservation act 198...   \n",
       "4  107410576  ['section 91 in the code of criminal procedure...   \n",
       "\n",
       "                                        matched_acts  1981_dum  \\\n",
       "0  ['forest conservation act 1980', 'forest conse...         0   \n",
       "1            ['the environment protection act 1986']         0   \n",
       "2  ['wild life protection act 1972', 'wild life p...         0   \n",
       "3  ['forest conservation act 1980', 'forest conse...         0   \n",
       "4         ['section 91 of the civil procedure code']         0   \n",
       "\n",
       "                eq_cite                                   kanoon_ids_cited  \\\n",
       "0                    []  [871328, 867010, 72095, 824830, 1781078, 16655...   \n",
       "1                    []                               [1353758, 182701402]   \n",
       "2                    []  [672187, 1280344, 912273, 1290514, 702677, 178...   \n",
       "3  [' AIR 1986 AP 225']  [1436914, 1233720, 1870616, 276791, 1642441, 1...   \n",
       "4                    []  [704277, 1252855, 1544088, 325366, 487818, 788...   \n",
       "\n",
       "                                         judge_court  \\\n",
       "0  [(' Y.K.Sabharwal', 'Supreme Court of India'),...   \n",
       "1                                                 []   \n",
       "2                                                 []   \n",
       "3  [(' J Reddy', 'Andhra High Court'), (' J Rao',...   \n",
       "4                                                 []   \n",
       "\n",
       "                       court        author  \\\n",
       "0     Supreme Court of India   Y Sabharwal   \n",
       "1          Kerala High Court           NaN   \n",
       "2  Madhya Pradesh High Court           NaN   \n",
       "3          Andhra High Court         Reddy   \n",
       "4  Madhya Pradesh High Court           NaN   \n",
       "\n",
       "                                               title  \\\n",
       "0  T.N. Godavarman Thirumulpad vs Union Of India ...   \n",
       "1  Kent Construction Pvt. Ltd vs Corporation Of K...   \n",
       "2  Rekh Singh vs The State Of Madhya Pradesh on 2...   \n",
       "3  Anupama Minerals vs Union Of India And Ors. on...   \n",
       "4  Nisar Khan vs The State Of Madhya Pradesh on 5...   \n",
       "\n",
       "                    petitioner                   respondent    doc_date  \\\n",
       "0  T.N. Godavarman Thirumulpad         Union Of India & Ors  2005-09-26   \n",
       "1   Kent Construction Pvt. Ltd         Corporation Of Kochi  2008-02-14   \n",
       "2                   Rekh Singh  The State Of Madhya Pradesh  2019-01-02   \n",
       "3             Anupama Minerals      Union Of India And Ors.  1984-12-20   \n",
       "4                   Nisar Khan  The State Of Madhya Pradesh  2015-10-05   \n",
       "\n",
       "                                                 pre  judgment_or_order  \n",
       "0             CASE NO.:\\nWrit Petition (civil)  2...                  1  \n",
       "1          \\n\\n \\nIN THE HIGH COURT OF KERALA AT ...                  1  \n",
       "2                                                ...                  0  \n",
       "3                                                NaN                  1  \n",
       "4                                  1\\n\\n      IN ...                  1  "
      ]
     },
     "execution_count": 4,
     "metadata": {},
     "output_type": "execute_result"
    }
   ],
   "source": [
    "df.head()"
   ]
  },
  {
   "cell_type": "code",
   "execution_count": 5,
   "metadata": {},
   "outputs": [],
   "source": [
    "## add text - \n",
    "import glob\n",
    "import os\n",
    "import tqdm\n",
    "from bs4 import BeautifulSoup \n"
   ]
  },
  {
   "cell_type": "code",
   "execution_count": 6,
   "metadata": {},
   "outputs": [],
   "source": [
    "KANOON = r\"D:\\indian_kanoon_raw\\\\\"\n",
    "file_paths = glob.glob(KANOON+\"**\\**\\**\\*.txt\")"
   ]
  },
  {
   "cell_type": "code",
   "execution_count": 7,
   "metadata": {},
   "outputs": [],
   "source": [
    "kanoon_ids = list(df[\"kanoon_id\"].unique())"
   ]
  },
  {
   "cell_type": "code",
   "execution_count": 8,
   "metadata": {},
   "outputs": [
    {
     "data": {
      "text/plain": [
       "1026316"
      ]
     },
     "execution_count": 8,
     "metadata": {},
     "output_type": "execute_result"
    }
   ],
   "source": [
    "kanoon_ids[0]"
   ]
  },
  {
   "cell_type": "code",
   "execution_count": 9,
   "metadata": {},
   "outputs": [
    {
     "data": {
      "text/plain": [
       "('D:\\\\indian_kanoon_raw\\\\allahabad\\\\allahabad\\\\1900', '1014770.txt')"
      ]
     },
     "execution_count": 9,
     "metadata": {},
     "output_type": "execute_result"
    }
   ],
   "source": [
    "os.path.split(file_paths[0])"
   ]
  },
  {
   "cell_type": "code",
   "execution_count": 10,
   "metadata": {},
   "outputs": [
    {
     "name": "stderr",
     "output_type": "stream",
     "text": [
      "100%|██████████| 7235533/7235533 [00:37<00:00, 193188.27it/s]\n"
     ]
    }
   ],
   "source": [
    "kanoon_dict = {}\n",
    "\n",
    "for kanoon_path in tqdm.tqdm(file_paths):\n",
    "    \n",
    "    id_ = os.path.split(kanoon_path)[-1]\n",
    "    \n",
    "    kanoon_dict[id_] = kanoon_path"
   ]
  },
  {
   "cell_type": "code",
   "execution_count": 11,
   "metadata": {},
   "outputs": [
    {
     "name": "stderr",
     "output_type": "stream",
     "text": [
      "100%|██████████| 9251/9251 [01:35<00:00, 96.68it/s] \n"
     ]
    }
   ],
   "source": [
    "list_text = []\n",
    "\n",
    "dict_text = {}\n",
    "\n",
    "for kanoon_id in tqdm.tqdm(kanoon_ids):\n",
    "    \n",
    "    kanoon_id_raw = kanoon_id\n",
    "    \n",
    "    kanoon_id = str(kanoon_id)+\".txt\"\n",
    "    \n",
    "    path = kanoon_dict[kanoon_id]\n",
    "    \n",
    "    f = open(path, \"r\", encoding=\"utf-8\")\n",
    "    \n",
    "    text = f.read()\n",
    "    \n",
    "    soup = BeautifulSoup(text,'lxml')\n",
    "    \n",
    "    judgement = soup.findAll(\"div\", {\"class\": \"judgments\"})[0].text\n",
    "    \n",
    "    try:\n",
    "        docsource_main = soup.findAll(\"div\", {\"class\": \"docsource_main\"})[0].text\n",
    "        judgement = judgement.replace(docsource_main, \"\")\n",
    "    except:\n",
    "        pass\n",
    "    \n",
    "    try:\n",
    "        doc_title = soup.findAll(\"div\", {\"class\": \"doc_title\"})[0].text\n",
    "        judgement = judgement.replace(doc_title, \"\")\n",
    "    except:\n",
    "        pass\n",
    "    \n",
    "    try:\n",
    "        doc_author = soup.findAll(\"div\", {\"class\": \"doc_author\"})[0].text\n",
    "        judgement = judgement.replace(doc_author, \"\")\n",
    "    except:\n",
    "        pass\n",
    "    \n",
    "    try:\n",
    "        doc_bench = soup.findAll(\"div\", {\"class\": \"doc_bench\"})[0].text\n",
    "        judgement = judgement.replace(doc_bench, \"\")\n",
    "    except:\n",
    "        pass\n",
    "    \n",
    "    dict_text[kanoon_id_raw] = judgement\n",
    "    \n",
    "    "
   ]
  },
  {
   "cell_type": "code",
   "execution_count": 12,
   "metadata": {},
   "outputs": [],
   "source": [
    "df[\"text\"] = df[\"kanoon_id\"].apply(lambda x : dict_text[x])"
   ]
  },
  {
   "cell_type": "code",
   "execution_count": 13,
   "metadata": {},
   "outputs": [
    {
     "data": {
      "text/plain": [
       "'T.N. Godavarman Thirumulpad vs Union Of India & Ors on 26 September, 2005           CASE NO.:Writ Petition (civil)  202 of 1995PETITIONER:T.N. Godavarman Thirumulpad\\t\\t\\t\\tRESPONDENT:Union of India & Ors.\\t\\t\\t\\t\\t\\tDATE OF JUDGMENT: 26/09/2005BENCH:Y.K.Sabharwal,Arijit Pasayat & S.H.KapadiaJUDGMENT:J U D G M E N TIA NO.826 IN IA NO.566 INWRIT PETITION (C) NO.202 OF 1995[WITH IA NO.932 IN 819-821, 955, 958, 985, 1001-1001a, 1013-1014, 1016-1018, 1019, 1046, 1047, 1135-1136, 1137, 1164, 1180-1181 AND 1182-1183, 1196, 1208-1209, 1222-1223, 1224-1225, 1229, 1233, 1248-1249, 1253, 1301-1302, 1303-1304, 1312, 1313, 1314, 1315-1316, 1318 AND 1319 IN WP (C) NO. 202 OF 1995]Y.K. Sabharwal, J.\\tNatural resources are the assets of entire nation.  It is the obligation of all concerned including Union Government and State Governments to conserve and not waste these resources.  Article 48A of the Constitution of India requires the State shall endeavour to protect and improve the environment and to safeguard the forest and wild life of the country.  Under Article 51A, it is the duty of every citizen to protect and improve the natural environment including forest, lakes, rivers and wild-life and to have compassion for living creatures.  In the present case, the question is about conservation, preservation and protection of forests and the ecology.  When forest land is used for non-forest purposes, what measures are required to be taken to compensate for loss of forest land and to compensate effect on the ecology, is the main question under consideration.\\tForests are a vital component to sustain the life support system on the earth.  Forests in India have been dwindling over the years for a number of reasons, one of it being the need to use forest area for development activities including economic development.  Undoubtedly, in any nation development is also necessary but it has to be consistent with protection of environments and not at the cost of degradation of environments.  Any programme, policy or vision for overall development has to evolve a systemic approach so as to balance economic development and environmental protection.  Both have to go hand in hand.  In ultimate analysis, economic development at the cost of degradation of environments and depletion of forest cover would not be long lasting.  Such development would be counter productive.  Therefore, there is an absolute need to take all precautionary measures when forest lands are sought to be directed for non forest use.\\tThe point in issue is whether before diversion of forest land for non-forest purposes and consequential loss of benefits accruing from the forests should not the user agency of such land be required to compensate for the diversion.  If so, should not the user Agency be required to make payment of Net Present Value (NPV) of such diverted land so as to utilize the amounts so received for getting back in long run the benefits which are lost by such diversion?  What guidelines should be issued for determination of NPV?  Should guidelines apply uniformly to all?  How to calculate NPV? Should some projects be exempted from payment of NPV?  These are the main aspects which require examination and determination in the backdrop of various legislations which we would presently notice.\\tThe legislature to provide for conservation of forest and for matters connected therewith or ancillary or incidental thereto enacted the Forest (Conservation) Act, 1980 (for short, the \\'FC Act\\').  It postulates that no State Government or other authority shall make, except with the prior approval of the Central Government, any order directing that any forest land or any portion thereof may be used for any non-forest purpose.  The Central Government under the FC Act has been empowered to constitute a Committee to advice it with regard to grant of approval.  Under Section 2 of the Act the question of use of any forest land for non-forest purposes and any other matter connected with the conservation of forest may be referred to such a committee by the Central Government under the FC Act.  The contravention of any of the provisions of Section 2 has been made an offence.  Noticing the decline in environment quality due to increasing pollution, loss of vegetal cover and biological diversity, excessive concentrations of harmful chemicals in the ambient atmosphere and in food chains, growing risks of environmental accidents and threats to life support system, the Environment (Protection) Act, 1986 (for short, the \\'EP Act\\') has been enacted.  It has been noted in the Statement of Objects and Reasons that although there are existing laws dealing directly or indirectly with several environmental matters, it is necessary to have a general legislation for environmental protection.  Existing laws generally focus on specific types of pollution or on specific categories of hazardous substances.  Some major areas of environmental hazards are not covered.  There also exist uncovered gaps in areas of major environmental hazards.  There are inadequate linkages in handling matters of industrial and environmental safety.  Control mechanisms to guard against slow, insidious build up of hazardous substances, especially new chemicals, in the environment are weak.  Because of a multiplicity of regulatory agencies, there is need for an authority which can assume the lead role for studying, planning and implementing long-term requirements of environmental safety and to give direction to, and co-ordinate a system of speedy and adequate response to emergency situations threatening the environment.  The EP Act was, therefore, enacted to provide for protection and improvement of environment and for matters connected therewith.   The Central Government has been given wide powers to take measures to protect and improve the environment as provided under Section 3 including the power to constitute an authority or authorities for the purpose of exercising and performing such of the powers and functions, including the power to issue directions under Section 5, of the Central Government under the Act and for taking measures with respect to such of the matters referred to in sub-section (2) of Section 3 as may be mentioned in the order and subject to the prejudice and control of the Central Government.  Section 5 of the EP Act empowers the Central Government, in exercise of its powers and performance of its function under the Act, to issue directions in writing to any person, officer or any authority and such person, officer or authority shall be bound to comply with such directions.  The Central Government has the power to direct the closure, prohibition or regulation of any industry, operation or process or stoppage of regulation of the supply of electricity or water or any other service.  Parliament has also enacted enactments to prevent and control water pollution and air pollution [The Water (Prevention and Control of Pollution) Act, 1974 and the Air (Prevention and Control of Pollution) Act, 1981]. A statement was placed before this Court by the Central Government showing the position as on 20th March, 2000 of the cases approved for diverting forest lands, stipulation for compensatory afforestation under the FC Act and the compensatory afforestation done, funds to be utilized and actually utilized. The Court noted the dismal situation as there was a shortfall to the extent of 36% of total afforestation compensatory or otherwise afforestation.  It further noted that though funds had been realized by all the States in connection with such afforestation, a very large number of States had spent 50% or less amount on afforestation. In this background, taking suo moto action, notices were directed to be issued to the States mentioned in the Order dated 17th April, 2000 to explain as to why moneys realized have not been spent on carrying out afforestation.\\tOn 23rd November, 2001, after considering the affidavits that had been filed, it was noted that large sums of money had been realized by various States from the user-agency to whom permits were granted to use forest land for non-forest purposes. The moneys were paid by user agencies to the State Governments for compensatory afforestation but the utilization was only about 83% of the funds actually realized by the State Governments, the shortfall being of nearly Rs.200 crores.  The Ministry of Environment and Forests (MOEF) was directed to formulate a scheme providing that whenever any permission is granted for change of use of forest land for non-forest purposes and one of the conditions of the permission is that there should be compensatory afforestation, then the responsibility of the same should be that of user-agency and it should be required to set apart a sum of money for doing the needful.  In such a case the State Government will have to provide or make available land on which reforestation can take place and this land may have to be made available either at the expense of the user-agency or of the State Government, as the State Government may decide.  It was decided that the scheme shall ensure that afforestation takes place as per the permissions which are granted and there should be no shortfall.  The scheme was submitted by MOEF alongwith an affidavit dated 22nd March, 2002.\\tThe Central Empowered Committee (CEC) on consideration of relevant material including the scheme submitted by MOEF made its report (IA 826) containing recommendations dated 9th August, 2002.  The report, taking note of the present system of compensatory afforestation as per guidelines issued by MOEF from time to time under the FC Act, the procedure for receipt and utilization of funds for compensatory afforestation, activities permissible under compensatory afforestation, adequate compensation for loss of forest land  recovery of Net Present Value, funds for catchment area, treatment plant and involvement of user-agency for compensatory afforestation, made the following recommendations :(a)\\tin addition to the funds realized for compensatory afforestation, net present value of the forest land diverted for non-forestry purposes shall also be recovered from the user agencies, while according approval under the Forest (Conservation) Act, 1980; (b)\\ta \\'Compensatory Afforestation Fund\\' shall be created in which all the monies received from the user-agencies towards compensatory afforestation, additional compensatory afforestation, penal compensatory afforestation, net present value of forest land, Catchment Area Treatment Plan funds, etc., shall be deposited.  The rules, procedure and composition of the body for management of the Compensatory Afforestation Fund shall be finalized by the Ministry of Environment & Forests with the concurrence of Central Empowered Committee within one month;(c)\\tthe funds received from the user-agencies in cases where forest land diverted falls within Protected Areas i.e. area notified under Section 18, 26A or 35 of the Wild Life (Protection) Act, 1972, for undertaking activities related to protection of bio-diversity, wildlife, etc., shall also be deposited in this Fund.  Such monies shall be used exclusively for undertaking protection and conservation activities in protected areas of the respective State/UT;(d)\\tthe amount received on account of compensatory afforestation but not spent or any balance amount lying with the State/UT or any amount that is yet to be recovered from the user agency shall also be deposited in this Fund;(e)\\tbesides artificial regeneration (plantations), the funds shall also be utilized for undertaking assisted natural regeneration, protection of forests and other related activities.  For this purpose, site specific plans should be prepared and implemented in a time bound manner;(f)\\tthe user agencies especially the large public sector undertakings such as Power Grid Corporation, NTPC, etc., which frequently require forest land for their projects should also be involved in undertaking compensatory afforestation by establishing Special Purpose Vehicle.  Whereas the private sector user-agencies may be involved in monitoring and most importantly, in protection of compensatory afforestation.  Necessary procedure for this purpose would be laid down by the MOEF with the concurrence of the Central Empowered Committee.(g)\\tPlantations must use local and indigenous species since exotics have long term negative impacts on the environment; and(h)\\tan independent system of concurrent monitoring and evaluation shall be evolved and implemented through the Compensatory Afforestation Fund to ensure effective and proper utilization of funds.\\tThe aforesaid report, inter alia, notes that there was general consensus amongst the States/Union Territories that the present practice of concentrating only on artificial regeneration through plantations should be dispensed with as it does not adequately compensates the loss of natural forest and that a part of the fund should also be used for assisted natural regeneration wherein the natural forests are allowed to regenerate and grow by undertaking silvicultural and cultural operations such as fire tracing, singalling of seedlings, protection, etc.  These activities help in regenerating the rootstock which may exists in the degraded forests.  Besides, this helps in restoring the natural forests, which is not possible through plantations.  It also noted that to compensate for the loss of tangible as well as intangible benefits flowing from the forest lands which has been diverted for non-forest use, the NPV of such land is being recovered from the user agency in the States of Madhya Pradesh, Chhattisgarh and Bihar.  In the states of Madhya Pradesh and Chhattisgarh, the NPV is being recovered at the rate of Rs.5.80 lac per hectare to Rs.9.20 lac per hectare of the forest land depending upon the quality and density of the forest land diverted for non-forestry use.  The underlying principle for recovery of NPV was that the plantations raised under the compensatory afforestation scheme could never adequately compensate for the loss of natural forests as the plantations require more time to mature and even then they are a poor substitute to natural forest.  It noted that States/Union Territories as well as MOEF are of the view that in addition to the funds realized for compensatory afforestation, the NPV of the forest land being directed for non-forestry purposes should also be recovered from the user-agencies.\\tThe MOEF, in principle, accepted the aforesaid recommendations of CEC.  The order dated 29th October, 2002 notices this fact.  Further noticing that no other State had filed any response to the report of CEC, the Court presumed that the State Governments were also not opposed to the said report and have accepted the same in the same manner as Union of India.  On detailed examination of the report, the recommendations of CEC were accepted and Union of India was directed to frame comprehensive rules with regard to the constitution of a body and management of the compensatory afforestation funds in concurrence with the CEC.  It was directed that the compensatory afforestation funds which had not yet been realized by the States shall be transferred to the aforesaid body by respective States and the user agencies within six months of its constitution.  In addition, while according approval under the FC Act for change in user, the user-agency shall also pay into the said fund, the NPV of forest land diverted for non-forest purposes at the rate of Rs.5.80 lac per hectare to Rs.9.20 lac per hectare of forest land depending upon the quality and density of the land in question converted for non-forest use.  The amount was subject to upward revision by the MOEF in consultation with CEC as and when necessary.  The aforesaid recommendations of CEC were accepted.\\tAn application (I.A.No.1046) was filed by the MOEF, inter alia, seeking directions that the NPV calculation shall be part of the detailed project report submitted to it for a forestry clearance under the FC Act.  During the course of hearing, learned Solicitor General informed this Court that the Government was agreeable to the suggestions of CEC that money received from user-agencies for compensatory afforestation fund should be kept in an interest bearing account, though initially it had some reservations about it.  Reference has also been made in the application about exemption being granted to some projects from payment of NPV, an aspect which we would consider later at an appropriate stage so also the basis of the calculation of the NPV. We may, however, note that although in the application it was stated that the format issued by the World Bank for calculation for NPV for the projects shall be the basis of its calculation, the learned Solicitor General stated that he was not relying upon the said format. Regarding the mining projects, the application mentions that there has to be difference in approach for mineral of high volume and low volume and low value and minerals of high value and low volume.  It is stated that levying of flat rates of NPV per hectare basis will, therefore, not be rational.  The application states that in case of mining, NPV should be calculated at the rate of 10% for the major minerals and 5% for the minor minerals to be levied on the annual royalty.    An application (IA 1047) has also been filed by the Ministry of Mines, Government of India taking similar pleas as are taken in IA 1046 seeking directions that in mining NPV may be calculated at the rate of 10% and 5% as above noted.\\tNow, we may refer to Notification dated 23rd April, 2004 issued by MOEF in exercise of the powers conferred by sub-section (3) of Section 3 of the EP Act constituting an authority known as Compensatory Afforestation Fund management and Planning Authority (hereinafter referred to as \\'CAMPA\\') for the purpose of management of money towards compensatory afforestation, NPV and any other money recoverable in pursuance of this Court\\'s order and in compliance of the conditions stipulated by the Central Government while according approval under the FC Act for non-forestry uses of the forest land.  The Executive Body of the Authority comprises of the following:\"(i)\\tDirector General of Forests and\\t- Chairperson\\tSpecial Secretary, Ministry of\\tEnvironment and Forests, Government\\tof India(ii)\\tAddl.Director General of Forests\\t- Member\\t(Forests) Ministry of Environment and\\tForests, Government of India(iii)\\tAddl.Director General of Forests\\t- Member\\t(Wildlife)(iv)\\tInspector General of Forests (Forest\\t- Member\\tConservation), Ministry of Environment\\tAnd Forests, Government of India(v)\\tJoint Secretary and Financial Advisor,\\t- Member\\tMinistry of Environment and Forests,\\tGovernment of India(vi)\\tChief Executive Officer (CEO)\\t- Member(vii)\\tA professional ecologist, not being from\\t- Member\\tThe Central and State Government, for\\tA period of two years at a time, for up\\tTwo consecutive terms.\"\\t\\tThe powers and functions of the Executive Body are:\"(a)\\tdeployment of staff on contractual basis or on deputation;(b)\\tfinancial procedure;(c)\\tdelegation of financial or administrative powers;(d)\\tother day-to-day working in respect of receipts of funds;(e)\\tinvestment of funds;(f)\\texpenditure on establishment and other overheads including office accommodation subject to the approval of the annual budget by the Governing Body.\"\\tThe management of the fund is provided in clause 6.3 and the disbursement of the fund in clause 6.4 of the Notification.  These clauses read as under:\"6.3\\tManagement of the Fund:(i)\\tThe amount collected by the CAMPA shall be invested in Reserve Bank of India, Nationalized Banks, Post Office, Government Securities, Government Bonds and deposits.(ii)\\tThe non-recurring as well as recurring cost for the management of CAMPA including the salary and allowances payable to its officers and staff shall be met by utilizing a part of the income by way of accused interest on the funds invested by the CAMPA excluding income from funds received as per para 6.2(ii).(iii)\\tThe expenditure incurred on independent monitoring and evaluation shall be borne by the CAMPA out of the income by way of interest on the funds invested by the CAMPA excluding income from funds received as para 6.2(iii).(iv)\\tThe CAMPA shall get the annual accounts audited internally as well as externally through chartered accountant(s) who are on the panel of the Comptroller and Auditor-General of India and the auditor(s) shall be selected on the approval of the Governing Body.6.4\\tDisbursement of Funds:(i)\\tThe money received for compensatory afforestation, additional compensatory afforestation may be used as per the site specific schemes received from the States and Union Territories along with the proposals for diversion of forest land under the Forest (Conservation) Act, 1980.(ii)\\tThe money received towards Net Present Value (NPV) shall be used for natural assisted regeneration, forest management, protection, infrastructure dev elopement, wildlife protection and management, supply of wood and other forest produce saving devices and other allied activities.(iii)\\tMonies realized from the user agencies in pursuance of the Hon\\'ble Supreme Court\\'s order or decision taken by the National Board for Wildlife involving cases of diversion of forest land in protected areas shall form the corpus and the income therefrom shall be used exclusively for undertaking protection and conservation activities in protected areas of the States and the Union Territories and in exceptional circumstances, a part of the corpus may also be used subject to prior approval of the CAMPA.(iv)\\tCAMPA shall release monies to concerned State and Union Territory in predetermined installments through the State Level Management Committee as per the Annual Plan of Operation (APO) finalized by the concerned State and the Union Territory.(v)\\tThe monies received in CAMPA from a State or the Union Territory as per para 6.2 and the income thereon after deducting expenditure incurred by the CAMPA on its establishment cost, monitoring and evaluation on a prorate basis shall be used only in that particular State or the union Territory.\"\\tClause 6.6 provides for other functions and reads thus:\"(i)\\tThe CAMPA may establish Special Purpose Vehicles (SPV) for undertaking compensatory afforestation particularly by involving large public sector undertakings which frequently require forests and for their projects, in consultation and as far as possible with the concurrence of the CEC.(ii)\\tThe CAMPA may also consider evolving new mechanism to generate additional sources of fund for forest conservation works and to create capacity and data base for better conceptualization and management of fund.\"\\tHaving regard to the nature of the functions of the Executive Body of the CAMPA, we find substance in the suggestion of learned Amicus Curiae that there should be more involvement of NGOs by including in the Executive Body, the conservationists, environmentalists, economists and experts in forestry.  We are of the view that the Executive Body deserves to be expanded as, presently, only one professional ecologist is its member, remaining all being officers of the Government.  We may note here that a forthright and fair stand was taken by the learned Solicitor General not only in regard to the constitution of CAMPA but on other aspects also, keeping in view the non-adversarial nature of the litigation.  Learned Solicitor General submitted that the Government is committed to conserve the forest and protect the environments, and would implement, in letter and spirit, the directions issued by this Court.  In view of above, we direct that clause 2.2 shall be suitably amended so as to include two more environmentalists, one of whom may be expert in the field of forest and the other in the field of forest economy development.  These members shall be included in the Executive Body in consultation with the Chairperson of the CEC.\\tRegarding clause 6.3(iv), it was suggested that there should be corporate accounting based on double entry system and auditing should be conducted by the Comptroller and Auditor-General (CAG).  We see substance in this suggestion as well.\\tClause (v) in 6.4 provides that the monies received in CAMPA shall be used only in that particular State or Union Territory.  The clause seems to be too rigid.  Many a times, the effect of degradation of environment or depletion of forest can be felt more in the adjoining area which may be in a different State or Union Territory.  The effect of environmental degradation cannot be restricted to a particular area.  The impact cannot be limited to the place of origin.  Therefore, we direct that a suitable modification of the clause shall be made so as to provide that ordinarily expenditure shall be incurred in the particular State or Union Territory but leaving it to the discretion of the CAMPA to also incur expenditure in the State or Union Territory other than the one mentioned in clause 6.2 if it considers it necessary.Clause 6.6 which by use of the word \\'may\\' leaves it to the discretion of the CAMPA to establish Special Performance Vehicle (SPV) for undertaking compensatory afforestation deserves to be amended so as to substitute the word \\'may\\' by the word \\'shall\\' so that the regeneration is done by some SPV in specified areas.\\tNow, we come to the question of the guiding principle to be laid for determining the NPV.  Reference was made to opinions of various experts laying down as to what is the concept of NPV and how it is to be calculated.  The question is also about the legal and jurisdictional basis to levy NPV.  Most of the States did not object to the recovery of the NPV from the user-agency but strenuously urged that since the land under the forest belongs to the State, the amount deposited by the user-agency as NPV shall be paid to them.  It was also contended on behalf of the States that there should be no NPV on degraded forest.  The further submission was that all public utility projects shall be exempted from payment of NPV.  On the other hand, relying upon the principles of inter-generational equity and sustainable development, Mr. Harish Salve, learned senior counsel and Amicus Curiae contended that forest is a part of eco-system and, therefore, the value to be put and calculated is not only on trees and leaves but the basis has to be the preservation of bio-diversity.  It is submitted that NPV is to be levied and collected not because property rights of the States are affected but on account of effect on ecology by conversion of forest land for non-forest purpose.  Further, Mr. Salve submits that the basis for calculation of NPV should be the economic value, spread over a period of 50 years, which would be regenerational value for forest regeneration to be taken into account as opposed to restoration value, i.e., financial value.  Regarding legal and jurisdictional basis to levy NPV, Mr. Salve contended that there are various legal principles which act as source of power to levy NPV.  In this regard, reference has been made to provision of the FC Act, EP Act and Forest Policy of 1988.  It is contended that these enactments and the policy are the measures taken by the legislature and the Government to discharge the constitutional obligation to protect the environments.  Reliance is also placed upon the doctrine of public trust, which learned counsel submits is a constitutional doctrine.First, we may consider the meaning of NPV and determine what is NPV.\\tThe NPV is the present value (PV) of net cash flow from a project, discounted by the cost of capital.\\tForestry is a public project.  It is important to bear in mind that a benefit received today is worth more than that received later.  The benefit received today is in fact \\'cost incurred\\' today.  Time value of the cash inflow/outflow is important in investment appraisal.  NPV is a method by which future expenditures (costs) and benefit are levelised in order to account for the time value of money.  The object behind NPV is to levelise costs.  What is the value of Rupee today would not be the value of Rupee say 50 years later.  For example, let us have the starting point of value of Rupee in India in the year 2005 and analyse it with the value of Rupee that may be in the year 2050.  Cost incurred or to be incurred in 2050 have to be discounted by using appropriate parameters like rate of discount, gestation period, ratio of deflators to GDP.  Therefore, expenses incurred in each year between say 2005 and 2050 have to be brought down to their present values by using appropriate discount rate in the NPV.\\tThe project like forestry has long gestation period of 40-50 years.  It goes through cost cycles each year depending upon inflation, rate of interest, internal rate of return etc.  Therefore, costs for the year 2005 will differ from the cost of 2006 and cost of 2006 will differ from that of the year 2007 and so on and so forth.  However, this constitutes what is called as conventional method of accounting cost which does not take into account social and economic cost of diversion of forest.\\tCost is a function of the discount rate (a measure of the value of capital) used.  Under NPV, all costs are discounted to some reference date which we have taken as 2005 for illustration.  The total cost reckoned at this reference date is the sum of present value or future value of costs discounted to the year 2005.  Similarly, one can calculate the present value of the revenues from the expected benefits of forest regeneration.  \\tThe question then is why charge NPV.  In the case of a conventional project like Hydro-electric Project, the accounting procedure is normally based on Return On Investment (ROI) in which the unit cost of energy includes return on capital, investment, depreciation of capital, annual fuel cost and operational and maintenance costs.  However, ROI excludes the time value of money.  It also excludes the gestation period of the project.  Therefore, we have the NPV method which discounts future costs and future benefits by use of appropriate discount rate and brings down such costs and benefits to the reference date which in the present case has been assumed to be the year 2005.\\tThe question, which we have to answer, is concerning the relevance of fixing appropriate discount rate in valuation of the costs and benefits arising from forestry as a project.\\tThe value of any asset is discounted by present value of the economic benefits it will generate in future years.  For example, timber asset value is the discounted future stumpage price for mature timber after deducting costs of bringing the timber to maturity.  NPV is one of the methods for valuation of standing timber.  The general expression V for the value of an asset, in the base year O, is simply the sum of the net economic benefits it yields in each year over the life time, T, of the Asset, discounted to the present value by the discounted rate.\\tThe current method of valuing public sector projects, like forestry, has become contentious as public sector undertakings agrees for lower discount rate on account of long gestation period.  However, the flaw with this argument is that the low rate of return is computed without including the intangible or environmental impacts/benefits emanating from forest. \\tHow does one value the intangibles?  There are several methods, viz, opportunity cost, replacement cost, travel cost, contingent value method (CVM) and social benefit cost analysis (SBCA).\\tSBCA can be applied to the evaluation of environmental impacts of forestry projects.  Here, one must appreciate that the environmental outputs from forests appear as public goods for which there is no market.  Various environmental outputs can be classified into this category, namely, \\tFlood Control BenefitsWater ProductionSoil ConservationOutdoor RecreationBiodiversity & ConservationHabitatAir Purification\\tThe problem in valuation of the above outputs is: allocation of fixed costs according to the contribution of each product in total revenue.  This is because except contribution of timber product, contribution of the other above-noted outputs is not known, especially intangible outputs.  However, under SBCA, benefits from each of the above environmental outputs are identifiable.  For example, flood control benefits arise because of the role of forests as stream regulator.  Similarly, valuation method for each of the above outputs differs.  In valuing biodiversity, CVM is useful.  SBCA is helpful in placing monetary value on carbon storage on air purification.\\tThe point is that for each of the above functions of the forests, different methods of valuation have to be applied.  Various methods have been used to estimate the value of environment like CVM, Opportunity Cost Method, Travel Cost Method, SBCA etc.  It would be appropriate if body of experts examine the aspect and report to this Court suggesting the best method depending on factors like gestation period, rate of discount (interest), density of the forest, social benefits of the project undertaken by PSU etc.  They will take into account economic values associated with forests, viz., direct use values, indirect use values such as value of environmental benefits from the forest, option values and existence value.\\tThe above discussion shows that NPV helps levelising the costs of public projects like forestry.  It is an important tool of SBCA.  Under SBCA, benefits from each of the above environmental outputs are identifiable.  Hence, applying NPV, one can allocate levelised costs according to the contribution of each product in the total revenue. It is important to bear in mind that a benefit or cost received or incurred now is worth more than that received or incurred later.  Therefore, using the appropriate discount rate helps to aggregate marginal benefits and costs.  The choice of interest rate depends upon time preference.  For public project, such as forestry, a social discount rate, which indicates time preference of the society, should be used.\\tForest sustainability is an integral part of forest management and policy that also has a unique dominating feature and calls for forest owners and society to make a long-term (50 years or longer) commitment to manage the forest for future generation.  One of the viewpoints for sustaining forest is a naturally functioning forest ecosystem.  This view point takes a man and nature relationship to the point of endorsing to, the extent possible, the notion of letting forest develop and process without significant human intervention.  A strong adoption of the naturalistic value system that whatever nature does is better than what humans do, this is almost the \"nature dominates man\" perspective.  Parks and natural reserve creations; non-intervention in insect, disease and fire process; and reduction of human activities are typical policy situation.  This viewpoint has been endorsed by 1988 Forest Policy of Government of India.  Yet another viewpoint recognizes the pragmatic reality faced by the governments and the administrative, namely, trees don\\'t vote while people do.  Some of the criteria reflecting key elements of ecological, economic and social sustainability are:1.\\tConservation of biological diversity.2.\\tMaintenance of productive capacity of forest ecosystems.3.\\tMaintenance of forest ecosystem health and vitality.4.\\tConservation and maintenance of soil and water resources.5.\\tMaintenance of forest contribution to global carbon cycles.6.\\tMaintenance and enhancement of long-term multiple socioeconomic benefits to meet the needs of societies.7.\\tLegal, institutional and economic framework for forest conservation and sustainable management.\\tAn expert dealing with principles and applications of forest valuation, on the aspect of value of inputs and outcomes and conditions, says :\"Decision making in forest management requires that we understand the relative values of inputs, outcomes, and conditions.  Cost values for inputs such as labour, capital, interest, supplies, legal advice, trades, and other management activities as well as the market value of existing timber stands are relatively easy to obtain.  Outcomes or resulting condition values are more difficult, but we need measures of the values of timberland, recreation, water, wildlife, visual amenities, biodiversity, environmental services, and ecological process to help guide management decisions.  By understanding market, social and other values of forests, we can better allocate our scarce and valuable resources to attain the desired mix of outcomes and conditions.\"\\tThe emphasis is on ecosystem, management philosophy that has greater emphasis on integration, biological diversity and ecological processes.\\tIn respect of working economic values of the outcome, it is said:\"In real world forest management situations, decision makers are faced with several alternatives and potentially large sets of criteria related to the ecological, economic and social impacts of these alternatives.  It would be very easy to generate a nearly incomprehensible table that documented every physical, biological, economic, and social outcome and condition resulting from each management alternative.  Such information could include outcome levels for water yield, sediment production, and timber growth; population trends for important wildlife species; and recreation use for backcountry and developed recreation sites.  Similarly, information on the economic value of these outcomes can be estimated by means of the methods discussed in chapter 8 and added to our impact table.  To this avalanche of information, we could add the impacts on the social well-being of local and regional communities.  The forest management analyst can easily overwhelm the decision makers and stakeholders with information.\"\\tDealing with fundamental of decision analyses to achieve ecological, economic and social goals, it is said that what is to be broadly kept in view is:\"Ecological and environmental goals are important to forest managers, landowners, and their stakeholders, we need information about how decision alternatives affect such goals.  These goals can be broadly stated as 1.\\tMaintaining and enhancing forest productivity2.\\tConservation of biological diversity3.\\tProtecting and enhancing environmental conditions.\"The aforesaid also shows that NPV as a tool of SBCA is required to be based on Total Economic Value (TEV).  It indicates the components of TEV.  It further shows what are the type of agency or experts which are required to examine these issues.\\tDealing with co-relation between economics and environmental management, in \\'Environmental Economics in practice\\' edited by Mr. Gopal K. Kadekodi in his write up through case studies, answers the question as to what has economics got to do with environmental management.  The author says that economics is the science of explaining the behaviour of different agents who take part in production, consumption and distribution activities in the economy and make decisions regarding the use of resources.  That, environmental economics focuses on market and non-market behaviour of different agents in the society regarding natural and environmental resources, viewed from intergenerational, inter-temporal and different institutional frameworks.  (Emphasis supplied by us)\\tIt is further stated that one of the major branches of economic theory is the \\'theory of value\\'.  Economic theory always makes a distinction between value and price.  Answering the question as to why value natural resources specifically, it is stated that one reason is that there is no market for ecosystem services such as nutritional cycle, carbon sequestration, watershed functions, temperature control, soil conservation etc.  It is also stated that assuming there are markets, they do not do their job well.  This market may be regulated one.  There may be restrictions on entry as a result of licensing or rationing introduced by the Government.  For the above reasons, it is concluded that valuation beyond the present is necessary and for natural resource Accounting NPV method is a must.\\tMr. Salve advocates for Total Economic Value (TEV) on the ground that TEV expresses the full range of value or benefits  both tangible and intangible.  Basically, it is understood that natural and environmental resources provide several \\'use values\\' and \\'non-use values\\' to enhance human welfare and provide sustainability to all lives (often termed as anthropogenic values).  Conceptually, it is the sum of use values (UV) and non-use value (NUV) which constitutes the TEV.  Further elaborations UV, option value (OV) non-use value (NUV) etc. have been given.  The UV, it is stated, can be further broadly classified into three groups  direct, indirect and option values.  Direct Use Values (DUV) refer to the current use (consumption) of the resources and services provided directly by natural and environmental resources.  Examples are the use of timber and non-timber forest products.  Recreation (tourism to wildlife sanctuaries or Himalayan Glaciers, mountains), education, research etc., are examples of direct non-consumptive use values.  Indirect Use Values (IUV) generally are referred to the ecological functions that natural resource environments provide.  It can be broadly classified into three groups  watershed values, ecosystem services and evolutionary processes.  The Optional Value (OV) is associated with the benefits received by retaining the option of using a resource (say a river basin) in the future by protecting or preserving it today, when its future demand and supply is uncertain.  Take the example of the Narmada river basin.  It is not necessary to delve further in this matter since ultimately it would be for the experts to examine and assist this Court as to the Model to be adopted for valuation, namely, TEV, CVM, SBCA etc.  It is for the experts to tell us as to what NPV should be applied in case of mines and different types of forests.  We may only note that basis of these valuations is the theory of sustainable development, i.e., development that meets the needs of the present without compromising with the ability of future generations to meet their own needs.  Despite various elaborations, definition of sustainable development, though very old, still is widely accepted world over and has been reiterated by this Court in catena of cases.\\tRegarding the parameters for valuation of loss of forest, we may only note as to what is stated by Ministry of Environment and Forests, Government in its handbook laying down guidelines and clarifications upto June 2004 while considering the grant of approval under Section 2 of the FC Act.  Dealing with environmental losses (soil erosion, effect on hydrological cycle, wildlife habitat, microclimate upsetting of ecological balance), the guidelines provide that though technical judgment would be primarily applied in determining the losses, as a thumb rule, the environmental value of one hectare of fully stocked forest (density 1.0) would be taken as Rs.126.74 lakhs to accrue over a period of 50 years.  The value will reduce with density, for example, if density is 0.4, the value will work out at Rs.50.696 lakhs.  So, if a project which requires deforestation of 1 hectare of forest of density 0.4 gives monetary returns worth over Rs.50.696 lakhs over a period of 50 years, may be considered to give a positive cost benefit ratio.  The figure of assumed environmental value will change if there is an increase in bank rate; the change will be proportional to percentage increase in the bank rate.  Ms. Kanchan Chopra, while conducting the case study of Keoladeo National Park in respect of economic valuation of biodiversity at the institute of economic growth, Delhi as a part of the Capacity 21 project sponsored by the UNDP and MOEF, Government of India examined the question as to what kind of values are to be taken into consideration.  As per the study, different components of biodiversity system possess different kinds of value (1) a commodity value (as for instance the value of grass in a park), (2) an amenity value (the recreation value of the park) and/or (3) a moral value (the right of the flora and fauna of the park to exist).  It is recognized that it is difficult to value ecosystem, since it possesses a large number of characteristic, more than just market oriented ones.  It also leads to the need to carry out bio-diversity valuation both in terms of its market linkage and the existence value outside the market as considered relevant by a set of pre-identified stakeholders.  It is, however, evident that while working out bio-diversity valuation, it is not trees and the leaves but is much more.  Various techniques for valuing biodiversity that have been developed to assess the value of living resources and habitats rich in such resources have been considered by the author for her case study while considering the aspect of value, their nature and stakeholders interest.  In so far as the value of ecology function in which the stakeholders or scientists, tourists, village residents, non-users, the nature of value is  regulation of water, nutrient cycle, flood control.  These instances have been noted to highlight the importance of the biodiversity valuation to protect the environments.  The conclusions and the policy recommendations of the author are:\"Biodiversity valuation has important implications for decision making with respect to alternative uses of land, water and biological resources.  Since all value does not get reflected in markets, its valuation also raises methodological problems regarding the kinds of value that are being captured by the particular technique being used.  Simultaneously, in the context of a developing country, it is important to evolve methods of management that enable self-financing mechanisms of conservation.  This implies that biodiversity value for which a market exists must be taken note of, while simultaneously making sure that the natural capital inherent in biodiversity rich areas is preserved and values which are crucial for some stakeholders but cannot be expressed in the market are reflected in societal decision making.\\tA focus on both the above aspects is necessary.  It is important to take note of the nature of market demand for aspects of biodiversity that stakeholders, such as tourists, express a revealed preference for by way of paying a price for it.  Simultaneously, it is important to examine the extent to which a convergence or divergence exists between value perceptions of this and other categories of stakeholders.  It is in this spirit that two alternative methodologies are used here to arrive at an economic valuation of biodiversity in Keoladeo National Park.  The travel-cost methodology captures the market-linked values of tourism and recreation.  It throws up the following policy implications :1.\\tKeeping in mind the location of the park and the consequent joint product nature of its services, cost incurred locally is a better index of the price paid by tourists.  It is found that demand for tourism services is fairly insensitive to price.  A redistribution of the benefits and costs of the park through an increase in entry fee would not affect the demand for its services.2.\\tCross-substitution between different categories of stakeholders can improve the financial management of the wetland.  A part of the proceeds can go to the local management. Also, high-income tourists, scientists and even non-users with a stake in preservation can pay for or compensate low-income stakeholders for possible loss in welfare due to limits on extraction and use.3.\\tHowever, the limit to such a policy is determined by the number of visitors and their possible impact on the health of the wetland.  Such a constraint did not appear to be operational in the context of the present park.Identification and ranking of values of different aspects of biodiversity resources as perceived and expressed by different categories of stakeholders namely scientists, tourists, local villagers and non-users is an important object in the process of valuation.  In the KNP study, a fair degree of congruence with respect of ecological function value and livelihood value is discovered to exist in the perceptions of diverse groups.  Stakeholders as diverse as scientists, tourists, local villagers and non-users give high rankings to these uses.\"Next question is to which expert reference shall be made.  Counsel for parties agree that Institute of Medical Economic Growth is an institute of eminence having been set up about half a century earlier.  It has also been pointed out that this Institute is getting regular maintenance and development grant from Indian Council of Social Sciences research (ICSSR).   Further, it appears that the Institute is also receiving research and training grants from Ministry of Finance, Ministry of Health and Family Welfare and Ministry of Agriculture, besides National Bank for Agriculture and Rural Development.  We have been informed that eminent faculty members in the institute are engaged in the field of research and  Ms.Kanchan Chopra, (Ph.D. Economics, University of Delhi) is one such faculty member and her field of specialization is resources and environmental economics, agriculture and rural development and project evaluation.  The matter deserves to be referred to a committee of experts in respect whereof we will in latter part of the judgment issue appropriate directions.\\tNext, we will deal with the contention of Mr. Venugopal who, appearing for State of Kerala, submitted that the State has no objection to the levy of NPV but the amount so received should come to the State.  Referring to Notification dated 23rd April, 2004 constituting CAMPA, learned counsel contended that clause 6.4 of the said Notification, which deals with disbursement of the funds, does not envisage the amount being disbursed to the State Government.  Learned senior counsel also challenged the constitutional validity of the Notification.  The contention put forth is that the Notification does not have any Parliamentary or Legislative control.  Referring to various clauses of the notification, it was contended that fund sought to be created under CAMPA lacks accountability and puts aside financial control.  There is a total lack of financial discipline which, learned counsel contends, is against the constitutional framework.  It was further contended that the forests vest in the Government; the same are State properties and, therefore, all amounts received shall go to Consolidated Fund of India or Consolidated Fund of the State or to Public Funds, as the case may be.  Reference has also been made to the provisions of the Comptroller and Auditor-General (Duties, Powers and Conditions of Service) Act, 1971 (for short, the \\'CAG Act\\') and the submission is that no provision under the Notification shows that the account can be subjected to audit under the CAG Act.  The contention, in short, is that constitutionally it is not permissible to any person or authority to hold funds collect on behalf of the Government.  This is basis for urging that the Notification dated 23rd April, 2004 is unconstitutional.  \\tFor examining the nature of the fund sought to be regulated by CAMPA, brief reference is necessary to be made to some of constitutional provisions.  Article 110 in so far as the Parliament is concerned and Article 199 in so far as the State is concerned, while defining Money Bills make a deeming provision for certain contingencies.  Article 110(1)(f) and Article 199(1)(f) read as under:\"110. Definition of \"Money Bills\".(1) For the purposes of this Chapter, a Bill shall be deemed to be a Money Bill if it contains only provisions dealing with all or any of the following matters, namely :--(a) to (d) .(f)\\tthe receipt of money on account of the Consolidated Fund of India or the public account of India or the custody or issue of such money or the audit of the  accounts of the Union or of a State; or\\tXXX\\t\\t\\tXXX\\t\\t\\tXXX199. definition of \"Money Bills\".(1) For the purposes of this Chapter, a Bill shall be deemed to be a Money Bill if it contains only provisions dealing with all or any of the following matters, namely :(a) to (d) (f)\\tthe receipt of money on account of the Consolidated Fund of the State or the public account of the State or the custody or issue of such money; or\"\\tThe contention is that Notification constituting CAMPA shall be deemed to be a Money Bill. \\tArticles 294 and 295 deal with succession to property, assets, rights, liabilities and obligations in certain cases as from the commencement of the Constitution of India, providing for vesting of the properties and assets in the Union and in the States.  These articles were referred to contend that forest is the property and asset of the State.\\tArticle 266 deals with Consolidated Fund of India and of the States.  Article 283 deals with custody of the consolidated funds, contingency funds and the moneys credited to the public accounts.  Article 284 deals with other monies received by public servants in courts and postulates the same shall be paid into the public account of India or the public account of the State, as the case may be.Article 266(1) deals with all revenues received by the Government of India, all loans raised by that Government by the issue of treasury bills, loans or ways and means advances and all moneys received by that Government in repayment of loans shall form one consolidated fund to be entitled \"the Consolidated Fund of India\", and likewise the sum received by Government of State shall form one consolidated fund to be entitled \"the Consolidated Fund of the State\".  Article 266(2) stipulates that all other public moneys received by or on behalf of the Government of India or the Government of a State shall be credited to the public account of India or the public account of the State, as the case may be.Third category of receipt is in terms of Article 284 which is required to be paid into the public account of India or the public account of the State, as the case may be.Chapter III of CAG Act deals with duties and powers of the Comptroller and Auditor-General.  Section 10 thereof deals with compilation of accounts of Union and the States by CAG.  Under Section 11, the CAG is required to prepare and submit accounts to the President, Governors of State and Administrators of Union Territories having Legislative Assemblies.  Under Section 12, CAG is required to give information and render assistance to the Union Government and the State Governments.  Section 13 sets out general provisions relating to audit.  Under this provision, it shall be the duty of the CAG to audit all expenditure from the Consolidated Fund of India and of each State and of each Union Territory having a Legislative Assembly and to ascertain whether the moneys shown in the accounts as having been disbursed were legally available for and applicable to the service or purpose to which they have been applied or charged and whether the expenditure conforms to the authority which governs it; to audit all transactions of the Union and of the State relating to contingency funds and public account; to audit all trading, manufacturing, profit and loss accounts and balance sheet and other subsidiary accounts kept in any department of the union or of a State; and in each case to report on the expenditure, transactions or accounts so audited by him.  Section 14 of CAG Act deals with audit of receipts and expenditure of bodies and authorities substantially financed from Union or State revenues.  Section 15 provides for the functions of CAG in the case of the grants or loans given to other authorities or bodies.  Section 16 deals with audit of receipts of Union or of States and Section 17 with audit of accounts of stores and stock.  Section 18 provides for the powers of CAG in connection with audit and accounts.  The audit of Government companies and corporations by CAG is dealt with under Section 19.  Section 20 is in the nature of a residuary provision providing that CAG, if requested by the President of India or the Governor of the State or the Administrator of Union of Territory having a Legislative Assembly to undertake the audit of the accounts of such other body or authority of which audit has been entrusted to CAG, the CAG shall undertake such audit.  Chapter III shows the responsibility of CAG to conduct audit in the manner provided in the law or on request made for the audit in the manner provided under Section 20.Relying on aforesaid constitutional provisions and also of CAG Act, it was contended that the notification constituting CAMPA is unconstitutional as it does not stipulate that the amounts collected on behalf of Government shall go to the relevant consolidation fund or to public fund.  Further, no provision has been made for audit under the CAT Act.  To examine this contention, it is necessary to determine the nature of Fund dealt with by CAMPA.  The background under which the fund came to be created has already been noted.  Noticing fast depletion of forests, the fund was ordered to be utilized for protection of forests and environments.  The environments are not the State property and are national asset.  It is the obligation of all to conserve the environments and for its utilization, it is necessary to have regard to the principles of sustainable development and inter-generational equity.  Reverting now specifically to forests, if it becomes necessary for economic development to use the same for non-forest purpose, then before grant of permission for diversion of forest land, there should be some scheme whereunder loss occurring due to such diversion can be made up by adopting both short term measures as well as long term measures one of it being a regeneration programme. Natural regeneration is a long process. It requires huge amounts. It requires a policy and direction. It requires proper use of funds for regeneration of depleted forest and ecology. The natural resources like forests are in trust with the present generation. In this light, various statutes noted above have been enacted by the Parliament. Keeping in view the letter and spirit of those statutes and constitutional provisions, the legality of CAMPA and the power to issue directions for natural regeneration and utilization of funds is required to be appreciated. The body set up or fund generated to protect ecology and provide for regeneration cannot in constitutional scheme of things be considered and treated as a fund under Article 266 or Article 283 or Article 284 of the Constitution of India. When seen in this light, neither Article 110 nor Article 199 and/or Article 294 or 195 would have any application.  There is an additional reason for the view that NPV will not fall under Article 110 or 199 or 195 of the Constitution.  Our constitution draws a distinct line between a \"TAX\" and a \"FEE\".  In case of Ratilal Panachand Gandhi v. State of Bombay & Ors. [1954 SCR 1055], one of the questions which arose for determination was regarding constitutional validity of Section 58 of Bombay Public Trust Act, 1950.  That section makes it obligatory on every Public Trust to pay to the Administration Fund a contribution at such time and in such manner as may be prescribed.  Under the rules, the contribution was fixed at the rate of 2% per annum upon the gross annual income of every Public Trust.  Failure to pay such contribution was made liable to penalty under Section 66 of the Act.  It was contended on behalf of the Trustees that the levy of contribution under Section 58 was in substance the levy of a tax, it was beyond the competence of the State legislature to enact such a provision.  This argument was rejected by this Court by holding that the Administration Fund constituted under Section 57 of Bombay Public Trust Act was a Special Fund which was to be applied exclusively for payment of charges for expenses incidental to the regulation of Public Trusts and in carrying into effect the provisions of the Act.  Under Section 57 Special Fund vested in the Charity Commissioner.  That Fund was set up from the charges levied on various Trusts in the State.  The Fund was to be managed by the Charity Commissioner.  All investments were to be made by the Charity Commissioner.  All disbursements were to be made by him in the manner prescribed by the rules.   The collections of these charges, deployed in the  Special  Fund,  were  not  merged  in the general revenue, but these collections were earmarked and set apart for the purposes of the Act.  This Court further noticed that the Charity Commissioner and the servants appointed under the Act drew their salary from the Consolidated Fund of the State.  However, this Court observed that Section 57 was enacted to facilitate the Administration and not with a view to mix up the Fund with the general revenue collected for government purposes.  Therefore, this Court held that Public Trusts Administration Fund was set up to meet all expenses of the administration of Trust property within the scheme of the Act and it is to meet such expenses that they levy was made and collections were effected.  Therefore, this Court held that such payments were levied for rendering service which the State considers beneficial in public interest.  In the circumstances, it was held that Section 57 and Section 58 of the 1950 Act were not ultra vires the State legislature because they did not levy a tax but they levied a fee which came within Entry 47 of List III of Seventh Schedule to the Constitution, which reads as under:\"47.  Fees in respect of any of the matters in this List, but not including fees taken in any court.\"\\tThus reading Entry 47 with Entry 20 of the same List, the imposition of NPV is a charge or a fee which falls within Entry 47 read with Entry 20 of List III of Seventh Schedule to the Constitution.  The Fund set up is a part \"of economic and social planning\" which comes within Entry 20 of List III and the charge which is levied for that purpose would come under Entry 47 of List III and, therefore, Article 110 is not attracted.To sustain ecological, economic and social values, in so far as forests are concerned, primarily, it is a question of Forest Management. In the introduction chapter of Forest Management, Fourth Edition, co-authored by Lawrence S. Davis, Professor Emeritus, University of California-Brakeley, K. Norman Johnson, Orgeon State University, Peter S. Bettinger, Orgeon State University and Theodore E. Howard, University of New Hampshire, authors have said that \"forest management remains the attempt to guide forests toward a society\\'s goals.  A forest manager is the catalyst of this effort. As such, the manager needs an earthy understanding of biological process; a knowledge of animals and their habitats; an appreciation  of streams and their environments; the long-range viewpoint of a planner; the patience of a labour negotiator, the skills of an administrator; and the alertness, flexibility and all-round resourcefulness of a successful business executive.  Above all, the forest manager requires a genuine sense and feeling for the forest as an entity.\"  This objective is to be borne in mind while considering the question of ecology as opposed to mere compensatory afforestation.  Compensatory afforestation is only a small portion in the long range efforts in the field of regeneration.  It has been said that recognizing the aforesaid uniqueness while applying the principles of management is the heart of forest management.Forest Management planning involves a blend of ecological, economic and social systems with the economic and social sides of planning often just as complex as the ecological sides.  Table 1.1 gives examples of decisions needed in the management of forest as under :\"Table 1.1Examples of decisions needed in the management of forestsType of decisionExampleExtent and distribution of reservesWildernessManagement emphases for areas where active management will occurBig game emphasis, high-intensity timber production, scenic areasTypes of activities allowedTimber harvest, prescribed fireAggregate harvest level over timeEvenflow, nondeclining yieldSilvicultural systemEven-aged, uneven-agedAge structure of forestAreas by 10-year age classesSize and shape of treatment unitsSmall units versus large unitsSpatial pattern of treatment unitsConcentrated or dispersed cutting blocksProtection strategyWildfire suppression policyVertical and horizontal diversity/stand densityApproach to partial cutting and prescribed burningRegeneration harvest timingRotation age (even-aged), cutting cycle (uneven-aged)Regeneration methodClearcutting, clearcutting with leave trees, shelterwood, selection, prescribed fire, natural disturbance.\"When permission is granted by the Government of India to use the forest land for non-forest purposes, it is not unconditional.  Conditions are attached mainly with a view to protect the environments and to make good the loss likely to occur by grant of such permission.  The payment into such a fund or imposition of conditions are for the protection of natural resources.  The Notification dated 23rd April, 2004 sets up a body to which payment is made so that the said body can carry out the statutory and constitutional obligations.  Since the amount does not go to the accounts postulated by Article 283, the said provision shall have no application.  Similarly, the provisions of the CAG Act would also have no application.  At the same time, it may be noted that clause 6.3 stipulates the audit through Chartered Accountants on the panel of CAG. In order to provide for financial discipline, transparency and accountability, it would be appropriate to provide for corporate accounting on the principles of double entry system.  We are further of the view that the accounts of the Fund shall be subjected to internal Statutory Audit, the Statutory Auditors to be taken from the panel of CAG.  The internal audit shall be conducted every six months.The duty to preserve natural resources in pristine purity has been highlighted in M.C. Mehta v. Kamal Nath & Ors. [(1997) 1 SCC 388].  After considering the opinion of various renowned authors and decisions rendered by other countries as well on environment and ecology, this Court held that the notion that the public has a right to expect certain lands and natural areas to retain their natural characteristics is finding its way into the law of the land.  The Court accepted the applicability of public trust doctrine and held that it was founded on the ideas that certain common properties such as rivers, sea-shore, forests and the air were held by the Government in trusteeship for the free and unimpeded use of the general public.  These natural resources have a great importance to the people as a whole that it would wholly unjustified to make them subject to private ownership.  These resources being a gift of nature, should be made freely available to everyone irrespective of the status in life.  The doctrine enjoins upon the Government to protect the resources for the enjoyment of the general public rather than to permit their use for private ownership or commercial purposes.  It was held that our legal system  based on English common law  includes the public trust doctrine as part of its jurisprudence.  The State is the trustee of all natural resources which are by nature meant for public use and enjoyment.  Public at large is the beneficiary of these resources.  The State as a trustee is under a legal duty to protect these natural resources.  Summing up the Court said :\"We are fully aware that the issues presented in this case illustrate the classic struggle between those members of the public who would preserve our rivers, forests, parks and open lands in their pristine purity and those charged with administrative responsibilities who, under the pressures of the changing needs of an increasingly complex society, find it necessary to encroach to some extent upon open lands heretofore considered inviolate to change.  The resolution of this conflict in any given case is for the legislature and not the courts.  If there is a law made by Parliament or the State Legislatures the courts can serve as an instrument of determining legislative intent in the exercise of its powers of judicial review under the Constitution.  But in the absence of any legislation, the executive acting under the doctrine of public trust cannot abdicate the natural resources and convert them into private ownership, or for commercial use.  The aesthetic use and the pristine glory of the natural resources, the environment and the ecosystems of our country cannot be permitted to be eroded for private, commercial or any other use unless the courts find it necessary, in good faith, for the public good and in public interest to encroach upon the said resources.\"In view of above, we hold that the natural resources are not ownership of any one State or individual, public at large is its beneficiary and, therefore, the contention of Mr. Venugopal that the amount of NPV shall be made over to the State Government cannot be accepted.The Indian Forest Act was enacted to consolidate the law relating to forests, the transit of forest-produce and the duty leviable on timber and other forest-produce.  The focus of this Act is on the proprietary rights.  Section 3 empowers the State Government to constitute any forest land or waste land which is the property of the Government or over which the Government has proprietary rights, or to the whole or any part of the forest produce of which the Government is entitled in a reserved forest in the manner provided in the Act.  As provided in Section 5, no right can be acquired over the land in respect whereof notification has been issued under Section 4.  In the manner provided in Section 11, the Forest Settlement Officer is empowered to acquire the land.  Section 20 provides for declaration of reserved forest.  No right in or over a reserved forest can be acquired, as provided in Section 23.  Acts prohibited in respect of forests have been incorporated in Section 25.  Section 29 deals with declaration of protect forest and Section 30 empowers the State Government to issue notification reserving trees etc. in a protected forest.  The power of the State Government for protection of forest has been provided in Section 35.  The power to impose duty on timber and other forest produce is contained in Section 39 of the Act.From the above, it can be seen that scheme of 1927 Act is a State management and regulation of the forest.  On the assumption that local communities were incapable of scientific management of forest, the British Government introduced Forest Policy and Management by setting up a forest department and enacting the Indian Forest Act, 1878 which was amended from time to time.  By passage of time, it was found that the provisions of the said Act were not adequate and, thus, in order to consolidate the law relating to forest, the transit of forest produce and the duty leviable for timber and other forest produce, the Indian Forest Act, 1927 was enacted.  To further tighten the management and regulation, the FC Act of 1980 was enacted.  It became necessary for conservation of forest on realizing that there has been large scale of deforestation which is causing ecological imbalance leading to environmental deterioration.  This led to enactment of the FC Act providing for prohibition for use of forest land for non-forest purpose by anyone including the State Government or other authorities except with the prior approval of the Central Government.  This legislature was enacted, as already noted, after Forest and Wildlife were taken out from the State list and placed in the Concurrent list.  At the same time, Article 48A was inserted in the Constitution of India for protection and improvement of environments and safeguarding forest and wildlife in the year 1977.The basis objectives leading to the laying down of the National Forest Policy, 1988 may also be noted and also the need and requirement for its enforcement.  This policy was framed on realizing that 1952 Forest Policy for the management of State forest in the country had not halted the depletion of forests.  It was, therefore, considered necessary to evolve a fresh policy for future to lay down new strategies of forest conservation which had become imperative.  Conservation includes preservation, maintenance, sustainable utilization, restoration and enhancement of the natural environment.  The principal aim of the forest policy is to ensure environmental stability and maintenance of ecological balance including atmospheric equilibrium which are vital for sustenance of all life forms, human, animal and plant.  The derivation of direct economic benefit must be subordinated to this principal aim.The forest policy has a statutory flavour.  The non-fulfillment of aforesaid principle aim would be violative of Articles 14 and 21 of the Constitution.  The basic objectives of the Forest Policy, 1988 are:\"2.1\\tThe basic objectives that should govern the National Forest Policy are the following:--\\tMaintenance of environmental stability through preservation and, where necessary, restoration of the ecological balance that has been adversely disturbed by serious depletion of the forests of the country.--\\tConserving the natural heritage of the country by preserving the remaining natural forests with the vast variety of flora and fauna, which represent the remarkable biological diversity and genetic resources of the country.--\\tChecking soil erosion and denudation in the catchment areas of rivers, lakes reservoirs in the interest of soil and water conservation, for mitigating floods and droughts and for the retardation of silation of reservoirs.--\\tChecking the extension of sand-dunes in the desert areas of Rajasthan and along the coastal tracts.--\\tIncreasing substantially the forest/tree cover in the country through massive afforestation and social forestry programmes, especially on all denuded, degraded and unproductive lands.--\\tMeeting the requirements of fuelwood, fodder, minor forest produce and small timber of the rural and tribal populations.--\\tIncreasing the productivity of forests to meet essential national needs.--\\tEncouraging efficient utilization of forest produce and maximum substitution of wood.--\\tCreating a massive people\\'s movement with the involvement of women, for achieving these objectives and to minimize pressure on existing forests.2.2\\tThe principal aim of Forest Policy must be to ensure environmental stability and maintenance of ecological balance including atmospheric equilibrium which are vital for sustenance of all life forms, human, animal and plant.  The derivation of direct economic benefit must be subordinated to this principal aim.\"It has been recognized that one of the essentials for forest management is the conservation of total biological diversity, the network of national parks, sanctuaries, biosphere reserves and other protected areas to be strengthened and extended adequately.  The strategy under the Forest Policy is to have a minimum of one-third of the total land area of the country under forest or tree-cover.  In the hills and in mountainous regions, the aim should be to maintain two-third of the area under such cover in order to prevent erosion and land degradation and to ensure the stability of the fragile ecosystem.  Clause 4.3 lays down the aspects of management of State forests.  It would be instructive to reproduce hereunder certain parts of the Policy with a view to have clarity of the aim to be achieved.  \"4.3.1. Schemes and projects which interfere with forest that clothe steep slopes, catchments of rivers, lakes, and reservoirs, geologically unstable terrain an d such other ecologically sensitive areas should be severely restricted.  Tropical rain/moist forest, particularly in areas like Arunachal Pradesh, Kerala, Andaman and Nicobar Islands should be totally safeguarded.4.3.2. No forest should be permitted to be worked without the Government having approved the management plan, which should be in a prescribed format and in keeping with the National Forest Policy.  The Central Government should issue necessary guidelines to the State Government in this regard and monitor compliance.\\tXXX\\t\\t\\tXXX\\t\\t\\tXXX4.4.1.\\tforest land or land with tree cover should not be treated merely as a resource readily available to be utilized for various projects and programmes, but as a national asset which requires to be properly safeguarded for providing sustained benefits to the entire community.  Diversion of forest land for any non-forest purpose should be subject to the most careful examinations by specialists from the standpoint of social and environmental costs and benefits.  Construction of dams and reservoirs, mining and industrial development and expansion of agriculture should be consistent with the needs for conservation of trees and forests.  Projects which involve such diversion should be least provide in their investment budget, funds for regeneration/ compensatory afforestation.4.4.2.\\tBeneficiaries who are allowed mining and quarrying in forest land and in land covered by trees should be required to repair and re-vegetate the area in accordance with established forestry practice.  No mining lease should be granted to any party, private or public, without a proper mine management plan appraised from the environmental angle and enforced by adequate machinery.\\tXXX\\t\\t\\tXXX\\t\\t\\tXXX4.6\\tHaving regard to the symbiotic relationship between the tribal people and forests, a primary task of all agencies responsible for forest management, including the forest development corporations should be to associate the tribal people closely in the protection, regeneration and development of forests as well as to provide gainful employment to people living in and around the forest.  While safeguarding the customary rights and interests of such people, forestry programmes should pay special attention to the following--\\tOne of the major cause for degradation of forest is illegal cutting and removal by contractors and their labour.  In order to put an end to this practice, contractors should be replaced by institutions such as tribal cooperatives, labour cooperatives, government corporations, etc. as early as possible;--\\tProtection, regeneration and optimum collection of minor forest produce along with institutional arrangements for the marketing of such produce;--\\tDevelopment of forest villages on par with revenue villages;--\\tFamily-oriented schemes for improving the status of the tribal beneficiaries; and,--\\tUndertaking integrated area development programmes to meet the needs of the tribal economy in the around the forest areas, including the provision of alternative sources of domestic energy on a subsidized basis, to reduce pressure on the existing forest areas.\\tXXX\\t\\t\\tXXX\\t\\t\\tXXX4.8.1.\\tEncroachment on forest lands has been on the increase.  This trend has to be arrested and effective action taken to prevent its continuance.  There should be no regularization of existing encroachments.\\tXXX\\t\\t\\tXXX\\t\\t\\tXXX4.9.\\tThe main considerations governing the establishment of forest-based industries and supply of raw material to them should be as follows :--\\tAs far as possible, a forest-based industry should raise the raw material needed for meeting its own requirements, preferably by establishment of direct relationship between the factory and the individuals who can grow the raw material by support the individuals with inputs including credit, constant technical advice and finally harvesting and transport services.--\\tNo forest-based enterprise, except that at the village or cottage level, should be permitted in the future unless it has been first cleared after a careful scrutiny with regard to assured availability of raw material.  In any case, the fuel, fodder and timber requirements of local population should not be sacrificed for this purpose.--\\tForest-based industries must not only provide employment to local people on priority but also involve them fully in raising trees and raw-material.--\\tNatural forests serve as a gene pool resources and help to maintain ecological balance.  Such forests will not, therefore, be made available to industries for undertaking plantation and for any other activities.--\\tFramers, particularly small and marginal farmers would be encouraged to grow, on marginal/degraded lands available with them, wood species required for industries.  These may also be grown along with fuel and fodder species on community lands not required for pasture purposes, and by forest department/corporations on degraded forests, not earmarked for natural regeneration.--\\tThe practice of supply of forest produce to industry at concessional prices should cease.  Industry should be encouraged to use alternative law materials.  Import of wood and wood products should be liberalized.--\\tThe above considerations will, however, be subject to the current policy relating to land ceiling and land-laws.\\tXXX\\t\\t\\tXXX\\t\\t\\tXXX4.16.\\tThe objective of this revised Policy cannot be achieved without the investment of financial and other resources on a substantial scale.  Such investment is indeed fully justified considering the contribution of forests in maintaining essential ecological processes and life-support systems and in preserving genetic diversity.  Forest should not be looked upon as a source of revenue.  Forests are a renewable natural resource.  They are a national asset to be protected and enhanced for the well being of the people and the Nation.\"It is clearly a constitutional imperative to preserve and enhance forest cover as a natural gene pool reserve.As opposed to the above, the ground reality has been depletion of forest. The shift in the approach of the legislation is evident from the FC Act of 1980 when compared with the scheme underlying the Indian Forest Act, 1927 which was State oriented for conserving the Forest Policy of 1952.  Further, in 1977, Forest and Wildlife were taken out from the State list and incorporated in Concurrent list.  Considering compulsions of States and large depletion of forest, these legislative measures have shifted the responsibility from States to Centre.  Moreover, any threat to the ecology can lead to violation of right of enjoyment of healthy life guaranteed under Article 21 which is required to be protected.  The Constitution of India enjoins upon this Court a duty to protect environments.  The aforesaid background has been given to demonstrate that the object of amount of NPV is to utilize the fund to conserve the ecology without in any manner affecting proprietary rights of the State Government over the land, timber or the minerals.  The Notification dated 23rd April, 2004 does not deprive any State of any land timber or mineral and, therefore, there is no question of disbursement of any amount to the State.  The damage to environment is a damage to the country\\'s assets as a whole.  Ecology knows no boundaries.  It can have impact on the climate.  The principles and parameters for valuation of the damage have to be evolved also keeping in view the likely impact of activities on future generation.\\tWe have already noted that this matter came to be examined on Central Government filing statement showing the dismal state of affairs of the forest in the country.  It is evident that despite the FC Act and the forest policy the forests have been rapidly depleting.  The forest policy recognizes this fact and, in fact, was involved to check the menace of fast eroding of forest in the country.  Despite constitutional amendments made effective from the beginning of 1977 and despite various environmental laws enacted between 1974-1986 depletion of forest has not halted. \\tThe State of Forest Report 1995 published by Forest Survey of India when compared with the State of Forest Report 1997 also shows that there has been considerable depletion of forest cover.  It also shows the limited regeneration.  A comparison of the two reveals that total forest cover of the country decreased from 638,879 sq.km. to 633,397 sq.km., thus showing a net loss of 5,482 sq.km.  Further it reveals that there has been a net decrease of 17,777 sq.km. of dense forest cover of the country while open forests and mangroves have increased by 12,001 sq.km. and 294 sq.km respectively.  The redeeming feature, however, is an improvement which can be seen from the State of Forest Report 2001.  Learned Amicus Curiae submits that improvement is a result of strict vigil on account of various orders passed by this Court from time to time.  It cannot be doubted that it is necessary to continue the efforts for regeneration of forest.\\tIt would also be useful to make a mention of the order dated 22nd September, 2000 passed by this Court which led to grant of sanction of rupees 1,000 crores for maintenance of forest under the 12th Finance Commission (2005-2010).  The said order took note of the fact that felling of the trees is far in excess of what would be justified with reference to regeneration, and the main cause is non-availability of sufficient funds.  It also notices that even with regard to the felling of trees as per working plans in the last three years, the corresponding prescription for regeneration has not been implemented.  It further notices that there cannot be any felling without regeneration because that will, over a period of time, only result in forest vanishing.  Further, the order says that the shortfall of regeneration which has resulted in depletion of forest cover has to be made up.  The court took note of the suggestion that for regeneration there should be a joint venture between State of Madhya Pradesh  a State having a large forest area, and the Central Government whereby the working capital, in whole or substantially the whole, can be provided by the Central Government and the regeneration of degraded forests carried out.  Taking an overall view, it is important for the nation that in certain areas where natural forest exists, the same should be preserved and at the same time the Central Government should consider whether the deficient States should not be asked to contribute towards the preservation of the existing forest cover and the compensation/incentive given to the forest rich States to preserve and regenerate forests.  In a sense, there should be a partnership of all the States to ensure the maintenance and improvement of forest cover.  It was observed that this suggestion should be considered by a Committee of Secretary (MOF) and the Secretary (MOEF) in consultation with the Chief Secretaries of all the States.\\tPara 14.25 of the 12th Finance Commission Report deals with maintenance of forest.  Noticing that several States have represented that subsequent to the restrictions placed by this Court on exploitation of forest wealth, the forests have become a net liability for the States rather than a source of revenue and maintenance of forest has become a problem due to financial constraints, these States pleaded that separate grant should be provided for maintenance of forest.  Recognising that forest are a national wealth and the country as a whole has the responsibility in preserving the said national wealth, the Commission decided to recommend a grant of rupees 1000 crores spread over the award period 2005-2010 for maintenance of forest.  This would be over and above what the States have been spending through their forest departments.  The amount was distributed among the States based on their forest area, to be spent for preservation of forest wealth.  In this light, it is not open to the State Government to contend that the amount of NPV paid by the user agency shall be handed over to them.  Reference may also be made to report of the Planning Commission (Chapter IX) relating to forest environments in Tenth Five Year Plan (2002-2007) which has taken note of the fact that sustainability is not an option but imperative since without it environmental deterioration and economic decline will be feeding each other leading to poverty, pollution, poor health, political upheaval and unrest.  Environment cuts across all sectors of development.  The rapid increase in green house gases in the atmosphere, land degradation, deteriorating conditions of fragile eco systems, deforestation, loss of biodiversity and environmental pollution have become subjects of serious global concern.  The overall impact of these phenomena is likely to result in depletion of ozone layer, change of climate, rise in sea-level loss of natural resources, reduction in their productivity ultimately leading to an ecological crisis affecting livelihood options for development and over all deterioration in quality of life.\\tFrom the above report, it follows that the deterioration and consequently preservation of eco-systems cannot be area or state specific and that utmost attention is required to be accorded to conservation of natural resources and for improvement of the status of our environments.  The report notices the need to tackle the environmental degradation in a holistic manner in order to ensure both economic and environmental sustainability.  Forests play an important role in environmental and economic sustainability.  It takes note of the forests being consistently and seriously undervalued in economic and social terms.  It recognizes that the economic value of the eco-system services of the forests is vast though it is extremely difficult to quantify.   It takes note of the fact that generally much of the land-use decision that presently drives forest change takes relatively little account of these values.  The country\\'s forest resource is under tremendous pressure.  Note has been taken of the fact that India\\'s biological diversity is reflected in the heterogeneity of its forest cover.  It is one of the 12 \\'mega-diversity\\' countries of the world.  India is also at the meeting zone of three major zone of three major bio-geographic realms, namely, the Indo-Malayan (the richest in the world), the Eurasian and Afro-tropical.  India also has the two richest bio-diversity areas, one in the northeast and the other in the Western Ghats.  The biological diversity is being conserved through a network of biosphere reserves, national parks and sanctuaries, however, the challenges for conservation emanate from population pressures, adverse impacts of industrialization and intensifying threat from illegal trade.\\tThe importance of conserving and managing existing natural forest and forest soils, which are very large stores of carbon, has been emphasized as it will significantly reduce greenhouse gas emissions.  To develop and protect forest, a scientific management is necessary so as to enhance productivity, density and health.  Forestry projects have to lay emphasis on management and rejuvenation of natural forests.  The fragile eco-systems should be properly managed in order to safeguard the livelihood of millions of people.\\tThe national development agenda must recognize the necessity of protecting the long-term ecological security.  The problem area is the growing population, high degree of mechanism and steep rise in energy use which has led to activities that directly or indirectly affect the sustainability of the environment.  \\tIt is recognized that the sustainable use of bio-diversity is fundamental to ecological sustainable.   The loss of bio-diversity stems from destruction of the habitat, extension of agriculture, filling up of wet lands, conversion of rich bio-diversity sites for human settlement and industrial development, destruction of coastal areas and uncontrolled commercial exploitation.  It is thus evident that the preservation of eco-systems, bio-diversity and environment whether examined on common law principle or statutory principle or constitutional principle eying from any angle it is clearly a national issue to be tackled at the national level.  All initiatives are required to seriously pursue.  \\tDealing with inter-generational justice, it has been rightly observed that posterity shall not be treated like dirt.  In an article published in 2003 Columbia Journal of Environmental Law (28 Colum.J.Envtl.L.185), the author says that the way in which a society cares or does not care for its dirt  its land  reflects the degree to which it cares or does not care for its own long-term future.  \\tWe may also briefly refer to Public Trust doctrine and its applicability to the matters under consideration.  The Public Trust Doctrine looks beyond the need of the present generation and also suggests that certain resources are invested with a special nature.  It would be instructive to make a note of a story given in by Timothy Patrick Brady in Boston College Environmental Affairs Law Review, Spring 1990 under the title \\'But most of it belongs to those yet to be born\\'.  The story relates to digging of well at the time of drought.  When a Frenchman told villagers of a prudent African solution of digging well, many villagers agreed but others argued that it will bring people from other villages and they would bring their cattle and that would increase the pressure on the already precious water.  The Frenchman told the villagers that why not explain to them that the well is only for your own village and they can dig their own.  It was then said that \\'water is not only ours, but is gift of nature from God and must be shared.\\'  Ultimately, they concluded that it was wiser not to dig the well at all.  The moral of the story is that we are trustees of natural resources which belong to all including future generation as well.  The public trust doctrine has to be used to protect the right of this as also future generation.  Having regard to the above, amounts under CAMPA have to be used for regeneration of eco-system and the same cannot be handed over to any State Government on the premise that ecology is not property of any State but belongs to all being a gift of nature for entire nation.  The object of the FC Act and EP Act is protection of environments.  These Acts do not deal with any propriety rights of anyone.  As already stated the question as to what amount of NPV is required to be paid to achieve these object is a matter to be gone into by the experts.  However, the amounts shall have to be updated from time to time after every three years.  For grant of approval under Section 2 of the FC Act besides payment of NPV as being presently calculated by MOEF, the user agencies shall have to give undertakings to pay the remaining amount, if any, pending finalization of determination by the experts.\\tTurning now to the grant of exemption to certain projects, learned Solicitor General submitted that Government hospitals, dispensaries, non-commercial government ventures like schools, rain water harvesting tanks, sever lines, village roads etc. are the projects meant for public welfare and have no adverse impact on environment as such and, therefore, these cases deserve to be granted exemption.  Learned Amicus Curiae has no objection to non-commercial and non-revenue earning Government public welfare projects being treated differently and granted exemption from the purview of the payment of NPV.  Submission was also made by learned counsel appearing for some of the parties that other projects like irrigation, hydro electricity or other similar projects engaged in public welfare and public utility activities too deserve to be similarly treated and granted exemption.  On behalf of the National Hydro Project Corporation Ltd. (NHPC), it was submitted that dams/hydro electric projects and other similar projects are undertaken in public interest and these will also not create environmental pollution and mere fact of these are revenue earning projects should not be taken as a ground to treat them differently.  Reliance has been placed on observations made in Hindustan Motors Ltd. & Anr. v. N.Siva Kumar & Anr. [(2000) 10 SCC 664] to contend that such a project is not a pollution industry.  This decision is not relevant for determining the question about levy and payment of NPV.  The question is not only about these and projects referred by the Solicitor General not creating pollution but is about diversion of forest land for non-forest purpose, thereby depleting forest so as to utilize land area in setting up these projects.  A distinction has to be maintained between a project set up for providing public utility but which is revenue earning, the category to which the project of NHPC falls and the government projects of the nature above referred like hospitals, schools etc., non-revenue earning projects.  A balance is required to be maintained in the development and protection of environments.  As already noted, the development has to be based on sustainability.  If NHPC uses the forest land for non forest purposes, the payment of NPV is to protect the ecological and bio-diversity having regard to the doctrines above referred.  Generally speaking, projects like NHPC are commercial ventures.\\tWhat we have stated above is also applicable to submissions made on behalf of Grid Corporation of Orissa (GRIDCO), State of Uttranchal and State of Madhya Pradesh.  We are unable to accept the submission that wherever the government is the user agency in notified forest area, protected forest/reserved forest etc., NPV should not be charged.  Such a submission cannot be accepted in the teeth of Section 2 of the FC Act and other environmental laws noticed hereinbefore.  \\tThe submission made on behalf of the Federation of Indian Mineral Industries about calculation of NPV at the rate of 10 per cent for major mineral and 5 per cent for minor mineral as already noted cannot be accepted.  The question is not of the value of the mineral or it being high value and low volume and mineral of high volume and low value, the question is about use of the forest areas and need to protect the environments in the manner above stated.  A larger public interest has to be the guiding principle and not the present interest of user agency only.  \\tWe are of the view that the question as to which class of projects deserve to be exempted can first be examined by experts having regard to principles laid in this judgment and in receipt of the report from them, this Court would further examine the matter and issue appropriate directions.  However, prima facie we feel that revenue earning projects do not deserve similar treatment as non-revenue earning public welfare projects. We are clear that if let loose, the benefits achieved as indicated in the State Forest Report of 2001 would be lost and we may be again where we were in 1990\\'s or 1980\\'s and earlier period during which there was immense depletion of forest and insignificant regeneration.The work of regeneration and also of compulsory afforestation requires special, specific and expert attention and we see no illegality in establishment of Special Purpose Vehicle (SPV) in terms of clause 6.6 above quoted except that for present till further orders it would be necessary to monitor the establishment of SPV.  Thus, in respect of clause 6.6 in relation to establishment of SPV, we hold that before establishing SPV, its format shall be filed in Court and SPV shall not be established without permission of the Court.  Further in our view the constitution of authority (CAMPA) is necessary to fully and effectively implement recommendation dated 9th August, 2002 made by CEC for protection of environment\\tIn view of the aforesaid discussion, our conclusions are:1.\\tExcept for government projects like hospitals, dispensaries and schools referred to in the body of the judgment, all other projects shall be required to pay NPV though final decision on this matter will be taken after receipt of Expert Committee Report.2.\\tThe payment to CAMPA under notification dated 23rd April, 2004 is constitutional and valid.3.\\tThe amounts are required to be used for achieving ecological plans and for protecting the environment and for the regeneration of forest and maintenance of ecological balance and eco-systems.  The payment of NPV is for protection of environment and not in relation to any propriety rights.4.\\tFund has been created having regard to the principles of intergenerational justice and to undertake short term and long-term measures.5.  \\tThe NPV has to be worked out on economic principles.In view of the above, we issue following directions:A.\\tAn expert committee comprising of three experts including Ms.Kanchan to be appointed within a period of one month by the Institution of Economic Growth (North Campus).B.\\tThe committee of experts would examine the following issues:(i)\\tTo identify and define parameters (scientific, bio-metric and social) on the basis of which each of the categories of values of forest land should be estimated.(ii)\\tTo formulate a practical methodology applicable to different bio-geographical zones of India for estimation of the values in monetary terms in respect of each of the above categories of forest values. (iii)\\tTo illustratively apply this methodology to obtain actual numerical values for different forest types for each bio-geographical zone in the country.(iv)\\tTo determine on the basis of established principles of public finance, who should pay the costs of restoration and/or compensation with respect to each category of values of forests.(v)\\tWhich projects deserve to be exempted from Payment of NPV.C.\\tThe user agencies shall give undertakings for the further payment, if any, as may be determined on receipt of report from the expert body.D.\\tThe Special Purpose Vehicle shall be established with the permission of the Court. E.\\tThe Institute shall send report of Committee of Experts within a period of four months.F.\\tThe various clauses of CAMPA shall be suitably modified in terms of this judgment within a period of one month.  List after four months.'"
      ]
     },
     "execution_count": 13,
     "metadata": {},
     "output_type": "execute_result"
    }
   ],
   "source": [
    "df[\"text\"][0]"
   ]
  },
  {
   "cell_type": "code",
   "execution_count": 14,
   "metadata": {},
   "outputs": [],
   "source": [
    "df.to_csv(citations_data+\"possible_air_corpus_with_meta_and_text.csv\", index=False)"
   ]
  },
  {
   "cell_type": "code",
   "execution_count": null,
   "metadata": {},
   "outputs": [],
   "source": []
  },
  {
   "cell_type": "code",
   "execution_count": null,
   "metadata": {},
   "outputs": [],
   "source": []
  },
  {
   "cell_type": "code",
   "execution_count": null,
   "metadata": {},
   "outputs": [],
   "source": []
  },
  {
   "cell_type": "code",
   "execution_count": null,
   "metadata": {},
   "outputs": [],
   "source": []
  },
  {
   "cell_type": "code",
   "execution_count": null,
   "metadata": {},
   "outputs": [],
   "source": []
  },
  {
   "cell_type": "code",
   "execution_count": null,
   "metadata": {},
   "outputs": [],
   "source": []
  },
  {
   "cell_type": "code",
   "execution_count": null,
   "metadata": {},
   "outputs": [],
   "source": []
  },
  {
   "cell_type": "code",
   "execution_count": null,
   "metadata": {},
   "outputs": [],
   "source": []
  },
  {
   "cell_type": "code",
   "execution_count": null,
   "metadata": {},
   "outputs": [],
   "source": []
  },
  {
   "cell_type": "code",
   "execution_count": null,
   "metadata": {},
   "outputs": [],
   "source": []
  },
  {
   "cell_type": "code",
   "execution_count": null,
   "metadata": {},
   "outputs": [],
   "source": []
  },
  {
   "cell_type": "code",
   "execution_count": null,
   "metadata": {},
   "outputs": [],
   "source": []
  },
  {
   "cell_type": "code",
   "execution_count": null,
   "metadata": {},
   "outputs": [],
   "source": []
  },
  {
   "cell_type": "code",
   "execution_count": null,
   "metadata": {},
   "outputs": [],
   "source": []
  },
  {
   "cell_type": "code",
   "execution_count": null,
   "metadata": {},
   "outputs": [],
   "source": []
  }
 ],
 "metadata": {
  "kernelspec": {
   "display_name": "Python 3",
   "language": "python",
   "name": "python3"
  },
  "language_info": {
   "codemirror_mode": {
    "name": "ipython",
    "version": 3
   },
   "file_extension": ".py",
   "mimetype": "text/x-python",
   "name": "python",
   "nbconvert_exporter": "python",
   "pygments_lexer": "ipython3",
   "version": "3.8.5"
  }
 },
 "nbformat": 4,
 "nbformat_minor": 4
}
