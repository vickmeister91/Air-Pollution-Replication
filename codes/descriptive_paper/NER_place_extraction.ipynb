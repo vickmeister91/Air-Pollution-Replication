{
 "cells": [
  {
   "cell_type": "code",
   "execution_count": 4,
   "metadata": {},
   "outputs": [
    {
     "name": "stderr",
     "output_type": "stream",
     "text": [
      "[nltk_data] Downloading package maxent_ne_chunker to\n",
      "[nltk_data]     C:\\Users\\wb570559\\AppData\\Roaming\\nltk_data...\n",
      "[nltk_data]   Unzipping chunkers\\maxent_ne_chunker.zip.\n",
      "[nltk_data] Downloading package words to\n",
      "[nltk_data]     C:\\Users\\wb570559\\AppData\\Roaming\\nltk_data...\n",
      "[nltk_data]   Unzipping corpora\\words.zip.\n",
      "[nltk_data] Downloading package treebank to\n",
      "[nltk_data]     C:\\Users\\wb570559\\AppData\\Roaming\\nltk_data...\n",
      "[nltk_data]   Unzipping corpora\\treebank.zip.\n",
      "[nltk_data] Downloading package maxent_treebank_pos_tagger to\n",
      "[nltk_data]     C:\\Users\\wb570559\\AppData\\Roaming\\nltk_data...\n",
      "[nltk_data]   Unzipping taggers\\maxent_treebank_pos_tagger.zip.\n",
      "[nltk_data] Downloading package punkt to\n",
      "[nltk_data]     C:\\Users\\wb570559\\AppData\\Roaming\\nltk_data...\n",
      "[nltk_data]   Unzipping tokenizers\\punkt.zip.\n",
      "[nltk_data] Downloading package averaged_perceptron_tagger to\n",
      "[nltk_data]     C:\\Users\\wb570559\\AppData\\Roaming\\nltk_data...\n",
      "[nltk_data]   Unzipping taggers\\averaged_perceptron_tagger.zip.\n"
     ]
    },
    {
     "data": {
      "text/plain": [
       "True"
      ]
     },
     "execution_count": 4,
     "metadata": {},
     "output_type": "execute_result"
    }
   ],
   "source": [
    "import pandas as pd\n",
    "import numpy as np\n",
    "\n",
    "import nltk\n",
    "\n",
    " \n",
    "# essential entity models downloads\n",
    "nltk.downloader.download('maxent_ne_chunker')\n",
    "nltk.downloader.download('words')\n",
    "nltk.downloader.download('treebank')\n",
    "nltk.downloader.download('maxent_treebank_pos_tagger')\n",
    "nltk.downloader.download('punkt')\n",
    "nltk.download('averaged_perceptron_tagger')"
   ]
  },
  {
   "cell_type": "code",
   "execution_count": 12,
   "metadata": {},
   "outputs": [],
   "source": [
    "citations_data = r\"C:\\Users\\wb570559\\Dropbox\\AIR POLLUTION PROJECT\\ANALYSIS\\DATA\\processed_data\\citations_data_full\\\\\""
   ]
  },
  {
   "cell_type": "code",
   "execution_count": 13,
   "metadata": {},
   "outputs": [],
   "source": [
    "# data of matched acts/additional corpus - \n",
    "\n",
    "df = pd.read_csv(citations_data+\"possible_air_corpus_with_meta.csv\")"
   ]
  },
  {
   "cell_type": "code",
   "execution_count": 14,
   "metadata": {},
   "outputs": [
    {
     "data": {
      "text/html": [
       "<div>\n",
       "<style scoped>\n",
       "    .dataframe tbody tr th:only-of-type {\n",
       "        vertical-align: middle;\n",
       "    }\n",
       "\n",
       "    .dataframe tbody tr th {\n",
       "        vertical-align: top;\n",
       "    }\n",
       "\n",
       "    .dataframe thead th {\n",
       "        text-align: right;\n",
       "    }\n",
       "</style>\n",
       "<table border=\"1\" class=\"dataframe\">\n",
       "  <thead>\n",
       "    <tr style=\"text-align: right;\">\n",
       "      <th></th>\n",
       "      <th>kanoon_id</th>\n",
       "      <th>acts_cited</th>\n",
       "      <th>matched_acts</th>\n",
       "      <th>1981_dum</th>\n",
       "      <th>eq_cite</th>\n",
       "      <th>kanoon_ids_cited</th>\n",
       "      <th>judge_court</th>\n",
       "      <th>court</th>\n",
       "      <th>author</th>\n",
       "      <th>title</th>\n",
       "      <th>petitioner</th>\n",
       "      <th>respondent</th>\n",
       "      <th>doc_date</th>\n",
       "      <th>pre</th>\n",
       "      <th>judgment_or_order</th>\n",
       "    </tr>\n",
       "  </thead>\n",
       "  <tbody>\n",
       "    <tr>\n",
       "      <th>0</th>\n",
       "      <td>1026316</td>\n",
       "      <td>['the forest conservation act 1980', 'the indi...</td>\n",
       "      <td>['forest conservation act 1980', 'forest conse...</td>\n",
       "      <td>0</td>\n",
       "      <td>[]</td>\n",
       "      <td>[871328, 867010, 72095, 824830, 1781078, 16655...</td>\n",
       "      <td>[(' Y.K.Sabharwal', 'Supreme Court of India'),...</td>\n",
       "      <td>Supreme Court of India</td>\n",
       "      <td>Y Sabharwal</td>\n",
       "      <td>T.N. Godavarman Thirumulpad vs Union Of India ...</td>\n",
       "      <td>T.N. Godavarman Thirumulpad</td>\n",
       "      <td>Union Of India &amp; Ors</td>\n",
       "      <td>2005-09-26</td>\n",
       "      <td>CASE NO.:\\nWrit Petition (civil)  2...</td>\n",
       "      <td>1</td>\n",
       "    </tr>\n",
       "    <tr>\n",
       "      <th>1</th>\n",
       "      <td>10391123</td>\n",
       "      <td>['the environment protection act 1986', 'the c...</td>\n",
       "      <td>['the environment protection act 1986']</td>\n",
       "      <td>0</td>\n",
       "      <td>[]</td>\n",
       "      <td>[1353758, 182701402]</td>\n",
       "      <td>[]</td>\n",
       "      <td>Kerala High Court</td>\n",
       "      <td>NaN</td>\n",
       "      <td>Kent Construction Pvt. Ltd vs Corporation Of K...</td>\n",
       "      <td>Kent Construction Pvt. Ltd</td>\n",
       "      <td>Corporation Of Kochi</td>\n",
       "      <td>2008-02-14</td>\n",
       "      <td>\\n\\n \\nIN THE HIGH COURT OF KERALA AT ...</td>\n",
       "      <td>1</td>\n",
       "    </tr>\n",
       "    <tr>\n",
       "      <th>2</th>\n",
       "      <td>105012226</td>\n",
       "      <td>['section 9 in the wild life protection act 19...</td>\n",
       "      <td>['wild life protection act 1972', 'wild life p...</td>\n",
       "      <td>0</td>\n",
       "      <td>[]</td>\n",
       "      <td>[672187, 1280344, 912273, 1290514, 702677, 178...</td>\n",
       "      <td>[]</td>\n",
       "      <td>Madhya Pradesh High Court</td>\n",
       "      <td>NaN</td>\n",
       "      <td>Rekh Singh vs The State Of Madhya Pradesh on 2...</td>\n",
       "      <td>Rekh Singh</td>\n",
       "      <td>The State Of Madhya Pradesh</td>\n",
       "      <td>2019-01-02</td>\n",
       "      <td>...</td>\n",
       "      <td>0</td>\n",
       "    </tr>\n",
       "    <tr>\n",
       "      <th>3</th>\n",
       "      <td>1054793</td>\n",
       "      <td>['section 2 in the forest conservation act 198...</td>\n",
       "      <td>['forest conservation act 1980', 'forest conse...</td>\n",
       "      <td>0</td>\n",
       "      <td>[' AIR 1986 AP 225']</td>\n",
       "      <td>[1436914, 1233720, 1870616, 276791, 1642441, 1...</td>\n",
       "      <td>[(' J Reddy', 'Andhra High Court'), (' J Rao',...</td>\n",
       "      <td>Andhra High Court</td>\n",
       "      <td>Reddy</td>\n",
       "      <td>Anupama Minerals vs Union Of India And Ors. on...</td>\n",
       "      <td>Anupama Minerals</td>\n",
       "      <td>Union Of India And Ors.</td>\n",
       "      <td>1984-12-20</td>\n",
       "      <td>NaN</td>\n",
       "      <td>1</td>\n",
       "    </tr>\n",
       "    <tr>\n",
       "      <th>4</th>\n",
       "      <td>107410576</td>\n",
       "      <td>['section 91 in the code of criminal procedure...</td>\n",
       "      <td>['section 91 of the civil procedure code']</td>\n",
       "      <td>0</td>\n",
       "      <td>[]</td>\n",
       "      <td>[704277, 1252855, 1544088, 325366, 487818, 788...</td>\n",
       "      <td>[]</td>\n",
       "      <td>Madhya Pradesh High Court</td>\n",
       "      <td>NaN</td>\n",
       "      <td>Nisar Khan vs The State Of Madhya Pradesh on 5...</td>\n",
       "      <td>Nisar Khan</td>\n",
       "      <td>The State Of Madhya Pradesh</td>\n",
       "      <td>2015-10-05</td>\n",
       "      <td>1\\n\\n      IN ...</td>\n",
       "      <td>1</td>\n",
       "    </tr>\n",
       "  </tbody>\n",
       "</table>\n",
       "</div>"
      ],
      "text/plain": [
       "   kanoon_id                                         acts_cited  \\\n",
       "0    1026316  ['the forest conservation act 1980', 'the indi...   \n",
       "1   10391123  ['the environment protection act 1986', 'the c...   \n",
       "2  105012226  ['section 9 in the wild life protection act 19...   \n",
       "3    1054793  ['section 2 in the forest conservation act 198...   \n",
       "4  107410576  ['section 91 in the code of criminal procedure...   \n",
       "\n",
       "                                        matched_acts  1981_dum  \\\n",
       "0  ['forest conservation act 1980', 'forest conse...         0   \n",
       "1            ['the environment protection act 1986']         0   \n",
       "2  ['wild life protection act 1972', 'wild life p...         0   \n",
       "3  ['forest conservation act 1980', 'forest conse...         0   \n",
       "4         ['section 91 of the civil procedure code']         0   \n",
       "\n",
       "                eq_cite                                   kanoon_ids_cited  \\\n",
       "0                    []  [871328, 867010, 72095, 824830, 1781078, 16655...   \n",
       "1                    []                               [1353758, 182701402]   \n",
       "2                    []  [672187, 1280344, 912273, 1290514, 702677, 178...   \n",
       "3  [' AIR 1986 AP 225']  [1436914, 1233720, 1870616, 276791, 1642441, 1...   \n",
       "4                    []  [704277, 1252855, 1544088, 325366, 487818, 788...   \n",
       "\n",
       "                                         judge_court  \\\n",
       "0  [(' Y.K.Sabharwal', 'Supreme Court of India'),...   \n",
       "1                                                 []   \n",
       "2                                                 []   \n",
       "3  [(' J Reddy', 'Andhra High Court'), (' J Rao',...   \n",
       "4                                                 []   \n",
       "\n",
       "                       court        author  \\\n",
       "0     Supreme Court of India   Y Sabharwal   \n",
       "1          Kerala High Court           NaN   \n",
       "2  Madhya Pradesh High Court           NaN   \n",
       "3          Andhra High Court         Reddy   \n",
       "4  Madhya Pradesh High Court           NaN   \n",
       "\n",
       "                                               title  \\\n",
       "0  T.N. Godavarman Thirumulpad vs Union Of India ...   \n",
       "1  Kent Construction Pvt. Ltd vs Corporation Of K...   \n",
       "2  Rekh Singh vs The State Of Madhya Pradesh on 2...   \n",
       "3  Anupama Minerals vs Union Of India And Ors. on...   \n",
       "4  Nisar Khan vs The State Of Madhya Pradesh on 5...   \n",
       "\n",
       "                    petitioner                   respondent    doc_date  \\\n",
       "0  T.N. Godavarman Thirumulpad         Union Of India & Ors  2005-09-26   \n",
       "1   Kent Construction Pvt. Ltd         Corporation Of Kochi  2008-02-14   \n",
       "2                   Rekh Singh  The State Of Madhya Pradesh  2019-01-02   \n",
       "3             Anupama Minerals      Union Of India And Ors.  1984-12-20   \n",
       "4                   Nisar Khan  The State Of Madhya Pradesh  2015-10-05   \n",
       "\n",
       "                                                 pre  judgment_or_order  \n",
       "0             CASE NO.:\\nWrit Petition (civil)  2...                  1  \n",
       "1          \\n\\n \\nIN THE HIGH COURT OF KERALA AT ...                  1  \n",
       "2                                                ...                  0  \n",
       "3                                                NaN                  1  \n",
       "4                                  1\\n\\n      IN ...                  1  "
      ]
     },
     "execution_count": 14,
     "metadata": {},
     "output_type": "execute_result"
    }
   ],
   "source": [
    "df.head()"
   ]
  },
  {
   "cell_type": "code",
   "execution_count": 16,
   "metadata": {},
   "outputs": [],
   "source": [
    "## add text - \n",
    "import glob"
   ]
  },
  {
   "cell_type": "code",
   "execution_count": 17,
   "metadata": {},
   "outputs": [],
   "source": [
    "KANOON = r\"D:\\indian_kanoon_raw\\\\\"\n",
    "file_paths = glob.glob(KANOON+\"**\\**\\**\\*.txt\")"
   ]
  },
  {
   "cell_type": "code",
   "execution_count": 18,
   "metadata": {},
   "outputs": [
    {
     "data": {
      "text/plain": [
       "[]"
      ]
     },
     "execution_count": 18,
     "metadata": {},
     "output_type": "execute_result"
    }
   ],
   "source": [
    "file_paths"
   ]
  },
  {
   "cell_type": "code",
   "execution_count": null,
   "metadata": {},
   "outputs": [],
   "source": []
  },
  {
   "cell_type": "code",
   "execution_count": null,
   "metadata": {},
   "outputs": [],
   "source": []
  },
  {
   "cell_type": "code",
   "execution_count": null,
   "metadata": {},
   "outputs": [],
   "source": []
  },
  {
   "cell_type": "code",
   "execution_count": null,
   "metadata": {},
   "outputs": [],
   "source": []
  },
  {
   "cell_type": "code",
   "execution_count": null,
   "metadata": {},
   "outputs": [],
   "source": []
  },
  {
   "cell_type": "code",
   "execution_count": null,
   "metadata": {},
   "outputs": [],
   "source": []
  },
  {
   "cell_type": "code",
   "execution_count": null,
   "metadata": {},
   "outputs": [],
   "source": []
  },
  {
   "cell_type": "code",
   "execution_count": null,
   "metadata": {},
   "outputs": [],
   "source": []
  },
  {
   "cell_type": "code",
   "execution_count": null,
   "metadata": {},
   "outputs": [],
   "source": []
  },
  {
   "cell_type": "code",
   "execution_count": null,
   "metadata": {},
   "outputs": [],
   "source": []
  },
  {
   "cell_type": "code",
   "execution_count": null,
   "metadata": {},
   "outputs": [],
   "source": []
  },
  {
   "cell_type": "code",
   "execution_count": null,
   "metadata": {},
   "outputs": [],
   "source": []
  },
  {
   "cell_type": "code",
   "execution_count": null,
   "metadata": {},
   "outputs": [],
   "source": []
  },
  {
   "cell_type": "code",
   "execution_count": null,
   "metadata": {},
   "outputs": [],
   "source": []
  },
  {
   "cell_type": "code",
   "execution_count": null,
   "metadata": {},
   "outputs": [],
   "source": []
  },
  {
   "cell_type": "code",
   "execution_count": null,
   "metadata": {},
   "outputs": [],
   "source": []
  }
 ],
 "metadata": {
  "kernelspec": {
   "display_name": "Python 3",
   "language": "python",
   "name": "python3"
  },
  "language_info": {
   "codemirror_mode": {
    "name": "ipython",
    "version": 3
   },
   "file_extension": ".py",
   "mimetype": "text/x-python",
   "name": "python",
   "nbconvert_exporter": "python",
   "pygments_lexer": "ipython3",
   "version": "3.8.5"
  }
 },
 "nbformat": 4,
 "nbformat_minor": 4
}
